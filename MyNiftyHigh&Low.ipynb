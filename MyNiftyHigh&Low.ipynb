{
  "cells": [
    {
      "cell_type": "markdown",
      "metadata": {
        "id": "view-in-github",
        "colab_type": "text"
      },
      "source": [
        "<a href=\"https://colab.research.google.com/github/titli17/Nifty50-Prediction/blob/main/MyNiftyHigh%26Low.ipynb\" target=\"_parent\"><img src=\"https://colab.research.google.com/assets/colab-badge.svg\" alt=\"Open In Colab\"/></a>"
      ]
    },
    {
      "cell_type": "code",
      "execution_count": null,
      "metadata": {
        "id": "83yUjNMu7fi3"
      },
      "outputs": [],
      "source": [
        "import pandas as pd\n",
        "import numpy as np\n",
        "import matplotlib.pyplot as plt"
      ]
    },
    {
      "cell_type": "code",
      "execution_count": null,
      "metadata": {
        "colab": {
          "base_uri": "https://localhost:8080/",
          "height": 206
        },
        "id": "f_QfTSQL7jwv",
        "outputId": "b85703c9-5810-4094-89b4-b44dab4c8726"
      },
      "outputs": [
        {
          "output_type": "execute_result",
          "data": {
            "text/plain": [
              "       Date      Open      High       Low     Close  Shares Traded  \\\n",
              "0  1-Jan-19  10881.70  10923.60  10807.10  10910.10    159000000.0   \n",
              "1  2-Jan-19  10868.85  10895.35  10735.05  10792.50    310000000.0   \n",
              "2  3-Jan-19  10796.80  10814.05  10661.25  10672.25    286000000.0   \n",
              "3  4-Jan-19  10699.70  10741.05  10628.65  10727.35    297000000.0   \n",
              "4  7-Jan-19  10804.85  10835.95  10750.15  10771.80    269000000.0   \n",
              "\n",
              "   Turnover (? Cr)  \n",
              "0          8688.26  \n",
              "1         15352.25  \n",
              "2         15030.45  \n",
              "3         14516.74  \n",
              "4         12731.29  "
            ],
            "text/html": [
              "\n",
              "  <div id=\"df-d984ff1f-b97f-47b7-b6ac-966c6c0da0b3\" class=\"colab-df-container\">\n",
              "    <div>\n",
              "<style scoped>\n",
              "    .dataframe tbody tr th:only-of-type {\n",
              "        vertical-align: middle;\n",
              "    }\n",
              "\n",
              "    .dataframe tbody tr th {\n",
              "        vertical-align: top;\n",
              "    }\n",
              "\n",
              "    .dataframe thead th {\n",
              "        text-align: right;\n",
              "    }\n",
              "</style>\n",
              "<table border=\"1\" class=\"dataframe\">\n",
              "  <thead>\n",
              "    <tr style=\"text-align: right;\">\n",
              "      <th></th>\n",
              "      <th>Date</th>\n",
              "      <th>Open</th>\n",
              "      <th>High</th>\n",
              "      <th>Low</th>\n",
              "      <th>Close</th>\n",
              "      <th>Shares Traded</th>\n",
              "      <th>Turnover (? Cr)</th>\n",
              "    </tr>\n",
              "  </thead>\n",
              "  <tbody>\n",
              "    <tr>\n",
              "      <th>0</th>\n",
              "      <td>1-Jan-19</td>\n",
              "      <td>10881.70</td>\n",
              "      <td>10923.60</td>\n",
              "      <td>10807.10</td>\n",
              "      <td>10910.10</td>\n",
              "      <td>159000000.0</td>\n",
              "      <td>8688.26</td>\n",
              "    </tr>\n",
              "    <tr>\n",
              "      <th>1</th>\n",
              "      <td>2-Jan-19</td>\n",
              "      <td>10868.85</td>\n",
              "      <td>10895.35</td>\n",
              "      <td>10735.05</td>\n",
              "      <td>10792.50</td>\n",
              "      <td>310000000.0</td>\n",
              "      <td>15352.25</td>\n",
              "    </tr>\n",
              "    <tr>\n",
              "      <th>2</th>\n",
              "      <td>3-Jan-19</td>\n",
              "      <td>10796.80</td>\n",
              "      <td>10814.05</td>\n",
              "      <td>10661.25</td>\n",
              "      <td>10672.25</td>\n",
              "      <td>286000000.0</td>\n",
              "      <td>15030.45</td>\n",
              "    </tr>\n",
              "    <tr>\n",
              "      <th>3</th>\n",
              "      <td>4-Jan-19</td>\n",
              "      <td>10699.70</td>\n",
              "      <td>10741.05</td>\n",
              "      <td>10628.65</td>\n",
              "      <td>10727.35</td>\n",
              "      <td>297000000.0</td>\n",
              "      <td>14516.74</td>\n",
              "    </tr>\n",
              "    <tr>\n",
              "      <th>4</th>\n",
              "      <td>7-Jan-19</td>\n",
              "      <td>10804.85</td>\n",
              "      <td>10835.95</td>\n",
              "      <td>10750.15</td>\n",
              "      <td>10771.80</td>\n",
              "      <td>269000000.0</td>\n",
              "      <td>12731.29</td>\n",
              "    </tr>\n",
              "  </tbody>\n",
              "</table>\n",
              "</div>\n",
              "    <div class=\"colab-df-buttons\">\n",
              "\n",
              "  <div class=\"colab-df-container\">\n",
              "    <button class=\"colab-df-convert\" onclick=\"convertToInteractive('df-d984ff1f-b97f-47b7-b6ac-966c6c0da0b3')\"\n",
              "            title=\"Convert this dataframe to an interactive table.\"\n",
              "            style=\"display:none;\">\n",
              "\n",
              "  <svg xmlns=\"http://www.w3.org/2000/svg\" height=\"24px\" viewBox=\"0 -960 960 960\">\n",
              "    <path d=\"M120-120v-720h720v720H120Zm60-500h600v-160H180v160Zm220 220h160v-160H400v160Zm0 220h160v-160H400v160ZM180-400h160v-160H180v160Zm440 0h160v-160H620v160ZM180-180h160v-160H180v160Zm440 0h160v-160H620v160Z\"/>\n",
              "  </svg>\n",
              "    </button>\n",
              "\n",
              "  <style>\n",
              "    .colab-df-container {\n",
              "      display:flex;\n",
              "      gap: 12px;\n",
              "    }\n",
              "\n",
              "    .colab-df-convert {\n",
              "      background-color: #E8F0FE;\n",
              "      border: none;\n",
              "      border-radius: 50%;\n",
              "      cursor: pointer;\n",
              "      display: none;\n",
              "      fill: #1967D2;\n",
              "      height: 32px;\n",
              "      padding: 0 0 0 0;\n",
              "      width: 32px;\n",
              "    }\n",
              "\n",
              "    .colab-df-convert:hover {\n",
              "      background-color: #E2EBFA;\n",
              "      box-shadow: 0px 1px 2px rgba(60, 64, 67, 0.3), 0px 1px 3px 1px rgba(60, 64, 67, 0.15);\n",
              "      fill: #174EA6;\n",
              "    }\n",
              "\n",
              "    .colab-df-buttons div {\n",
              "      margin-bottom: 4px;\n",
              "    }\n",
              "\n",
              "    [theme=dark] .colab-df-convert {\n",
              "      background-color: #3B4455;\n",
              "      fill: #D2E3FC;\n",
              "    }\n",
              "\n",
              "    [theme=dark] .colab-df-convert:hover {\n",
              "      background-color: #434B5C;\n",
              "      box-shadow: 0px 1px 3px 1px rgba(0, 0, 0, 0.15);\n",
              "      filter: drop-shadow(0px 1px 2px rgba(0, 0, 0, 0.3));\n",
              "      fill: #FFFFFF;\n",
              "    }\n",
              "  </style>\n",
              "\n",
              "    <script>\n",
              "      const buttonEl =\n",
              "        document.querySelector('#df-d984ff1f-b97f-47b7-b6ac-966c6c0da0b3 button.colab-df-convert');\n",
              "      buttonEl.style.display =\n",
              "        google.colab.kernel.accessAllowed ? 'block' : 'none';\n",
              "\n",
              "      async function convertToInteractive(key) {\n",
              "        const element = document.querySelector('#df-d984ff1f-b97f-47b7-b6ac-966c6c0da0b3');\n",
              "        const dataTable =\n",
              "          await google.colab.kernel.invokeFunction('convertToInteractive',\n",
              "                                                    [key], {});\n",
              "        if (!dataTable) return;\n",
              "\n",
              "        const docLinkHtml = 'Like what you see? Visit the ' +\n",
              "          '<a target=\"_blank\" href=https://colab.research.google.com/notebooks/data_table.ipynb>data table notebook</a>'\n",
              "          + ' to learn more about interactive tables.';\n",
              "        element.innerHTML = '';\n",
              "        dataTable['output_type'] = 'display_data';\n",
              "        await google.colab.output.renderOutput(dataTable, element);\n",
              "        const docLink = document.createElement('div');\n",
              "        docLink.innerHTML = docLinkHtml;\n",
              "        element.appendChild(docLink);\n",
              "      }\n",
              "    </script>\n",
              "  </div>\n",
              "\n",
              "\n",
              "<div id=\"df-c06f7f1b-fd83-40c7-87b9-f9ca6e68f0ca\">\n",
              "  <button class=\"colab-df-quickchart\" onclick=\"quickchart('df-c06f7f1b-fd83-40c7-87b9-f9ca6e68f0ca')\"\n",
              "            title=\"Suggest charts\"\n",
              "            style=\"display:none;\">\n",
              "\n",
              "<svg xmlns=\"http://www.w3.org/2000/svg\" height=\"24px\"viewBox=\"0 0 24 24\"\n",
              "     width=\"24px\">\n",
              "    <g>\n",
              "        <path d=\"M19 3H5c-1.1 0-2 .9-2 2v14c0 1.1.9 2 2 2h14c1.1 0 2-.9 2-2V5c0-1.1-.9-2-2-2zM9 17H7v-7h2v7zm4 0h-2V7h2v10zm4 0h-2v-4h2v4z\"/>\n",
              "    </g>\n",
              "</svg>\n",
              "  </button>\n",
              "\n",
              "<style>\n",
              "  .colab-df-quickchart {\n",
              "      --bg-color: #E8F0FE;\n",
              "      --fill-color: #1967D2;\n",
              "      --hover-bg-color: #E2EBFA;\n",
              "      --hover-fill-color: #174EA6;\n",
              "      --disabled-fill-color: #AAA;\n",
              "      --disabled-bg-color: #DDD;\n",
              "  }\n",
              "\n",
              "  [theme=dark] .colab-df-quickchart {\n",
              "      --bg-color: #3B4455;\n",
              "      --fill-color: #D2E3FC;\n",
              "      --hover-bg-color: #434B5C;\n",
              "      --hover-fill-color: #FFFFFF;\n",
              "      --disabled-bg-color: #3B4455;\n",
              "      --disabled-fill-color: #666;\n",
              "  }\n",
              "\n",
              "  .colab-df-quickchart {\n",
              "    background-color: var(--bg-color);\n",
              "    border: none;\n",
              "    border-radius: 50%;\n",
              "    cursor: pointer;\n",
              "    display: none;\n",
              "    fill: var(--fill-color);\n",
              "    height: 32px;\n",
              "    padding: 0;\n",
              "    width: 32px;\n",
              "  }\n",
              "\n",
              "  .colab-df-quickchart:hover {\n",
              "    background-color: var(--hover-bg-color);\n",
              "    box-shadow: 0 1px 2px rgba(60, 64, 67, 0.3), 0 1px 3px 1px rgba(60, 64, 67, 0.15);\n",
              "    fill: var(--button-hover-fill-color);\n",
              "  }\n",
              "\n",
              "  .colab-df-quickchart-complete:disabled,\n",
              "  .colab-df-quickchart-complete:disabled:hover {\n",
              "    background-color: var(--disabled-bg-color);\n",
              "    fill: var(--disabled-fill-color);\n",
              "    box-shadow: none;\n",
              "  }\n",
              "\n",
              "  .colab-df-spinner {\n",
              "    border: 2px solid var(--fill-color);\n",
              "    border-color: transparent;\n",
              "    border-bottom-color: var(--fill-color);\n",
              "    animation:\n",
              "      spin 1s steps(1) infinite;\n",
              "  }\n",
              "\n",
              "  @keyframes spin {\n",
              "    0% {\n",
              "      border-color: transparent;\n",
              "      border-bottom-color: var(--fill-color);\n",
              "      border-left-color: var(--fill-color);\n",
              "    }\n",
              "    20% {\n",
              "      border-color: transparent;\n",
              "      border-left-color: var(--fill-color);\n",
              "      border-top-color: var(--fill-color);\n",
              "    }\n",
              "    30% {\n",
              "      border-color: transparent;\n",
              "      border-left-color: var(--fill-color);\n",
              "      border-top-color: var(--fill-color);\n",
              "      border-right-color: var(--fill-color);\n",
              "    }\n",
              "    40% {\n",
              "      border-color: transparent;\n",
              "      border-right-color: var(--fill-color);\n",
              "      border-top-color: var(--fill-color);\n",
              "    }\n",
              "    60% {\n",
              "      border-color: transparent;\n",
              "      border-right-color: var(--fill-color);\n",
              "    }\n",
              "    80% {\n",
              "      border-color: transparent;\n",
              "      border-right-color: var(--fill-color);\n",
              "      border-bottom-color: var(--fill-color);\n",
              "    }\n",
              "    90% {\n",
              "      border-color: transparent;\n",
              "      border-bottom-color: var(--fill-color);\n",
              "    }\n",
              "  }\n",
              "</style>\n",
              "\n",
              "  <script>\n",
              "    async function quickchart(key) {\n",
              "      const quickchartButtonEl =\n",
              "        document.querySelector('#' + key + ' button');\n",
              "      quickchartButtonEl.disabled = true;  // To prevent multiple clicks.\n",
              "      quickchartButtonEl.classList.add('colab-df-spinner');\n",
              "      try {\n",
              "        const charts = await google.colab.kernel.invokeFunction(\n",
              "            'suggestCharts', [key], {});\n",
              "      } catch (error) {\n",
              "        console.error('Error during call to suggestCharts:', error);\n",
              "      }\n",
              "      quickchartButtonEl.classList.remove('colab-df-spinner');\n",
              "      quickchartButtonEl.classList.add('colab-df-quickchart-complete');\n",
              "    }\n",
              "    (() => {\n",
              "      let quickchartButtonEl =\n",
              "        document.querySelector('#df-c06f7f1b-fd83-40c7-87b9-f9ca6e68f0ca button');\n",
              "      quickchartButtonEl.style.display =\n",
              "        google.colab.kernel.accessAllowed ? 'block' : 'none';\n",
              "    })();\n",
              "  </script>\n",
              "</div>\n",
              "\n",
              "    </div>\n",
              "  </div>\n"
            ],
            "application/vnd.google.colaboratory.intrinsic+json": {
              "type": "dataframe",
              "variable_name": "ds0",
              "summary": "{\n  \"name\": \"ds0\",\n  \"rows\": 1341,\n  \"fields\": [\n    {\n      \"column\": \"Date\",\n      \"properties\": {\n        \"dtype\": \"category\",\n        \"num_unique_values\": 457,\n        \"samples\": [\n          \"17-Jun-22\",\n          \"24-Apr-19\",\n          \"10-Jan-23\"\n        ],\n        \"semantic_type\": \"\",\n        \"description\": \"\"\n      }\n    },\n    {\n      \"column\": \"Open\",\n      \"properties\": {\n        \"dtype\": \"number\",\n        \"std\": 3702.503367027249,\n        \"min\": 7735.15,\n        \"max\": 23038.95,\n        \"num_unique_values\": 1336,\n        \"samples\": [\n          17966.55,\n          17638.6,\n          21775.75\n        ],\n        \"semantic_type\": \"\",\n        \"description\": \"\"\n      }\n    },\n    {\n      \"column\": \"High\",\n      \"properties\": {\n        \"dtype\": \"number\",\n        \"std\": 3705.2979180182288,\n        \"min\": 8036.95,\n        \"max\": 23110.8,\n        \"num_unique_values\": 1336,\n        \"samples\": [\n          17690.05,\n          17663.2,\n          21813.05\n        ],\n        \"semantic_type\": \"\",\n        \"description\": \"\"\n      }\n    },\n    {\n      \"column\": \"Low\",\n      \"properties\": {\n        \"dtype\": \"number\",\n        \"std\": 3700.760948593347,\n        \"min\": 7511.1,\n        \"max\": 22908.0,\n        \"num_unique_values\": 1339,\n        \"samples\": [\n          11142.05,\n          16483.9,\n          9845.05\n        ],\n        \"semantic_type\": \"\",\n        \"description\": \"\"\n      }\n    },\n    {\n      \"column\": \"Close\",\n      \"properties\": {\n        \"dtype\": \"number\",\n        \"std\": 3705.033257615515,\n        \"min\": 7610.25,\n        \"max\": 22967.65,\n        \"num_unique_values\": 1331,\n        \"samples\": [\n          18202.8,\n          19733.55,\n          21658.6\n        ],\n        \"semantic_type\": \"\",\n        \"description\": \"\"\n      }\n    },\n    {\n      \"column\": \"Shares Traded\",\n      \"properties\": {\n        \"dtype\": \"number\",\n        \"std\": 208930966.58173296,\n        \"min\": 19064566.0,\n        \"max\": 1810000000.0,\n        \"num_unique_values\": 566,\n        \"samples\": [\n          312000000.0,\n          238000000.0,\n          1570000000.0\n        ],\n        \"semantic_type\": \"\",\n        \"description\": \"\"\n      }\n    },\n    {\n      \"column\": \"Turnover (? Cr)\",\n      \"properties\": {\n        \"dtype\": \"number\",\n        \"std\": 8538.312956081747,\n        \"min\": 1572.77,\n        \"max\": 78522.93,\n        \"num_unique_values\": 1340,\n        \"samples\": [\n          31501.08,\n          22061.81,\n          30700.69\n        ],\n        \"semantic_type\": \"\",\n        \"description\": \"\"\n      }\n    }\n  ]\n}"
            }
          },
          "metadata": {},
          "execution_count": 42
        }
      ],
      "source": [
        "ds0=pd.read_csv(\"/content/Nifty50Data.csv\")\n",
        "ds0.head()"
      ]
    },
    {
      "cell_type": "code",
      "execution_count": null,
      "metadata": {
        "colab": {
          "base_uri": "https://localhost:8080/",
          "height": 206
        },
        "id": "F4nzvt-aB_2H",
        "outputId": "0b5003d3-d9c0-4f35-f9a5-24f805bc01b4"
      },
      "outputs": [
        {
          "output_type": "execute_result",
          "data": {
            "text/plain": [
              "          Date      Open      High       Low     Close  Shares Traded  \\\n",
              "1336  ########  22614.10  22993.60  22577.45  22967.65    370000000.0   \n",
              "1337  ########  22930.75  23026.40  22908.00  22957.10    262000000.0   \n",
              "1338  ########  23038.95  23110.80  22871.20  22932.45    260000000.0   \n",
              "1339  ########  22977.15  22998.55  22858.50  22888.15    218000000.0   \n",
              "1340  ########  22762.75  22825.50  22685.45  22704.70    270000000.0   \n",
              "\n",
              "      Turnover (? Cr)  \n",
              "1336         39157.65  \n",
              "1337         27966.99  \n",
              "1338         27204.54  \n",
              "1339         23054.65  \n",
              "1340         27549.09  "
            ],
            "text/html": [
              "\n",
              "  <div id=\"df-97311bc5-d1cd-4423-8bb1-101b0c4a9c8e\" class=\"colab-df-container\">\n",
              "    <div>\n",
              "<style scoped>\n",
              "    .dataframe tbody tr th:only-of-type {\n",
              "        vertical-align: middle;\n",
              "    }\n",
              "\n",
              "    .dataframe tbody tr th {\n",
              "        vertical-align: top;\n",
              "    }\n",
              "\n",
              "    .dataframe thead th {\n",
              "        text-align: right;\n",
              "    }\n",
              "</style>\n",
              "<table border=\"1\" class=\"dataframe\">\n",
              "  <thead>\n",
              "    <tr style=\"text-align: right;\">\n",
              "      <th></th>\n",
              "      <th>Date</th>\n",
              "      <th>Open</th>\n",
              "      <th>High</th>\n",
              "      <th>Low</th>\n",
              "      <th>Close</th>\n",
              "      <th>Shares Traded</th>\n",
              "      <th>Turnover (? Cr)</th>\n",
              "    </tr>\n",
              "  </thead>\n",
              "  <tbody>\n",
              "    <tr>\n",
              "      <th>1336</th>\n",
              "      <td>########</td>\n",
              "      <td>22614.10</td>\n",
              "      <td>22993.60</td>\n",
              "      <td>22577.45</td>\n",
              "      <td>22967.65</td>\n",
              "      <td>370000000.0</td>\n",
              "      <td>39157.65</td>\n",
              "    </tr>\n",
              "    <tr>\n",
              "      <th>1337</th>\n",
              "      <td>########</td>\n",
              "      <td>22930.75</td>\n",
              "      <td>23026.40</td>\n",
              "      <td>22908.00</td>\n",
              "      <td>22957.10</td>\n",
              "      <td>262000000.0</td>\n",
              "      <td>27966.99</td>\n",
              "    </tr>\n",
              "    <tr>\n",
              "      <th>1338</th>\n",
              "      <td>########</td>\n",
              "      <td>23038.95</td>\n",
              "      <td>23110.80</td>\n",
              "      <td>22871.20</td>\n",
              "      <td>22932.45</td>\n",
              "      <td>260000000.0</td>\n",
              "      <td>27204.54</td>\n",
              "    </tr>\n",
              "    <tr>\n",
              "      <th>1339</th>\n",
              "      <td>########</td>\n",
              "      <td>22977.15</td>\n",
              "      <td>22998.55</td>\n",
              "      <td>22858.50</td>\n",
              "      <td>22888.15</td>\n",
              "      <td>218000000.0</td>\n",
              "      <td>23054.65</td>\n",
              "    </tr>\n",
              "    <tr>\n",
              "      <th>1340</th>\n",
              "      <td>########</td>\n",
              "      <td>22762.75</td>\n",
              "      <td>22825.50</td>\n",
              "      <td>22685.45</td>\n",
              "      <td>22704.70</td>\n",
              "      <td>270000000.0</td>\n",
              "      <td>27549.09</td>\n",
              "    </tr>\n",
              "  </tbody>\n",
              "</table>\n",
              "</div>\n",
              "    <div class=\"colab-df-buttons\">\n",
              "\n",
              "  <div class=\"colab-df-container\">\n",
              "    <button class=\"colab-df-convert\" onclick=\"convertToInteractive('df-97311bc5-d1cd-4423-8bb1-101b0c4a9c8e')\"\n",
              "            title=\"Convert this dataframe to an interactive table.\"\n",
              "            style=\"display:none;\">\n",
              "\n",
              "  <svg xmlns=\"http://www.w3.org/2000/svg\" height=\"24px\" viewBox=\"0 -960 960 960\">\n",
              "    <path d=\"M120-120v-720h720v720H120Zm60-500h600v-160H180v160Zm220 220h160v-160H400v160Zm0 220h160v-160H400v160ZM180-400h160v-160H180v160Zm440 0h160v-160H620v160ZM180-180h160v-160H180v160Zm440 0h160v-160H620v160Z\"/>\n",
              "  </svg>\n",
              "    </button>\n",
              "\n",
              "  <style>\n",
              "    .colab-df-container {\n",
              "      display:flex;\n",
              "      gap: 12px;\n",
              "    }\n",
              "\n",
              "    .colab-df-convert {\n",
              "      background-color: #E8F0FE;\n",
              "      border: none;\n",
              "      border-radius: 50%;\n",
              "      cursor: pointer;\n",
              "      display: none;\n",
              "      fill: #1967D2;\n",
              "      height: 32px;\n",
              "      padding: 0 0 0 0;\n",
              "      width: 32px;\n",
              "    }\n",
              "\n",
              "    .colab-df-convert:hover {\n",
              "      background-color: #E2EBFA;\n",
              "      box-shadow: 0px 1px 2px rgba(60, 64, 67, 0.3), 0px 1px 3px 1px rgba(60, 64, 67, 0.15);\n",
              "      fill: #174EA6;\n",
              "    }\n",
              "\n",
              "    .colab-df-buttons div {\n",
              "      margin-bottom: 4px;\n",
              "    }\n",
              "\n",
              "    [theme=dark] .colab-df-convert {\n",
              "      background-color: #3B4455;\n",
              "      fill: #D2E3FC;\n",
              "    }\n",
              "\n",
              "    [theme=dark] .colab-df-convert:hover {\n",
              "      background-color: #434B5C;\n",
              "      box-shadow: 0px 1px 3px 1px rgba(0, 0, 0, 0.15);\n",
              "      filter: drop-shadow(0px 1px 2px rgba(0, 0, 0, 0.3));\n",
              "      fill: #FFFFFF;\n",
              "    }\n",
              "  </style>\n",
              "\n",
              "    <script>\n",
              "      const buttonEl =\n",
              "        document.querySelector('#df-97311bc5-d1cd-4423-8bb1-101b0c4a9c8e button.colab-df-convert');\n",
              "      buttonEl.style.display =\n",
              "        google.colab.kernel.accessAllowed ? 'block' : 'none';\n",
              "\n",
              "      async function convertToInteractive(key) {\n",
              "        const element = document.querySelector('#df-97311bc5-d1cd-4423-8bb1-101b0c4a9c8e');\n",
              "        const dataTable =\n",
              "          await google.colab.kernel.invokeFunction('convertToInteractive',\n",
              "                                                    [key], {});\n",
              "        if (!dataTable) return;\n",
              "\n",
              "        const docLinkHtml = 'Like what you see? Visit the ' +\n",
              "          '<a target=\"_blank\" href=https://colab.research.google.com/notebooks/data_table.ipynb>data table notebook</a>'\n",
              "          + ' to learn more about interactive tables.';\n",
              "        element.innerHTML = '';\n",
              "        dataTable['output_type'] = 'display_data';\n",
              "        await google.colab.output.renderOutput(dataTable, element);\n",
              "        const docLink = document.createElement('div');\n",
              "        docLink.innerHTML = docLinkHtml;\n",
              "        element.appendChild(docLink);\n",
              "      }\n",
              "    </script>\n",
              "  </div>\n",
              "\n",
              "\n",
              "<div id=\"df-18e21433-e9e2-44a9-b19e-8c52a015e483\">\n",
              "  <button class=\"colab-df-quickchart\" onclick=\"quickchart('df-18e21433-e9e2-44a9-b19e-8c52a015e483')\"\n",
              "            title=\"Suggest charts\"\n",
              "            style=\"display:none;\">\n",
              "\n",
              "<svg xmlns=\"http://www.w3.org/2000/svg\" height=\"24px\"viewBox=\"0 0 24 24\"\n",
              "     width=\"24px\">\n",
              "    <g>\n",
              "        <path d=\"M19 3H5c-1.1 0-2 .9-2 2v14c0 1.1.9 2 2 2h14c1.1 0 2-.9 2-2V5c0-1.1-.9-2-2-2zM9 17H7v-7h2v7zm4 0h-2V7h2v10zm4 0h-2v-4h2v4z\"/>\n",
              "    </g>\n",
              "</svg>\n",
              "  </button>\n",
              "\n",
              "<style>\n",
              "  .colab-df-quickchart {\n",
              "      --bg-color: #E8F0FE;\n",
              "      --fill-color: #1967D2;\n",
              "      --hover-bg-color: #E2EBFA;\n",
              "      --hover-fill-color: #174EA6;\n",
              "      --disabled-fill-color: #AAA;\n",
              "      --disabled-bg-color: #DDD;\n",
              "  }\n",
              "\n",
              "  [theme=dark] .colab-df-quickchart {\n",
              "      --bg-color: #3B4455;\n",
              "      --fill-color: #D2E3FC;\n",
              "      --hover-bg-color: #434B5C;\n",
              "      --hover-fill-color: #FFFFFF;\n",
              "      --disabled-bg-color: #3B4455;\n",
              "      --disabled-fill-color: #666;\n",
              "  }\n",
              "\n",
              "  .colab-df-quickchart {\n",
              "    background-color: var(--bg-color);\n",
              "    border: none;\n",
              "    border-radius: 50%;\n",
              "    cursor: pointer;\n",
              "    display: none;\n",
              "    fill: var(--fill-color);\n",
              "    height: 32px;\n",
              "    padding: 0;\n",
              "    width: 32px;\n",
              "  }\n",
              "\n",
              "  .colab-df-quickchart:hover {\n",
              "    background-color: var(--hover-bg-color);\n",
              "    box-shadow: 0 1px 2px rgba(60, 64, 67, 0.3), 0 1px 3px 1px rgba(60, 64, 67, 0.15);\n",
              "    fill: var(--button-hover-fill-color);\n",
              "  }\n",
              "\n",
              "  .colab-df-quickchart-complete:disabled,\n",
              "  .colab-df-quickchart-complete:disabled:hover {\n",
              "    background-color: var(--disabled-bg-color);\n",
              "    fill: var(--disabled-fill-color);\n",
              "    box-shadow: none;\n",
              "  }\n",
              "\n",
              "  .colab-df-spinner {\n",
              "    border: 2px solid var(--fill-color);\n",
              "    border-color: transparent;\n",
              "    border-bottom-color: var(--fill-color);\n",
              "    animation:\n",
              "      spin 1s steps(1) infinite;\n",
              "  }\n",
              "\n",
              "  @keyframes spin {\n",
              "    0% {\n",
              "      border-color: transparent;\n",
              "      border-bottom-color: var(--fill-color);\n",
              "      border-left-color: var(--fill-color);\n",
              "    }\n",
              "    20% {\n",
              "      border-color: transparent;\n",
              "      border-left-color: var(--fill-color);\n",
              "      border-top-color: var(--fill-color);\n",
              "    }\n",
              "    30% {\n",
              "      border-color: transparent;\n",
              "      border-left-color: var(--fill-color);\n",
              "      border-top-color: var(--fill-color);\n",
              "      border-right-color: var(--fill-color);\n",
              "    }\n",
              "    40% {\n",
              "      border-color: transparent;\n",
              "      border-right-color: var(--fill-color);\n",
              "      border-top-color: var(--fill-color);\n",
              "    }\n",
              "    60% {\n",
              "      border-color: transparent;\n",
              "      border-right-color: var(--fill-color);\n",
              "    }\n",
              "    80% {\n",
              "      border-color: transparent;\n",
              "      border-right-color: var(--fill-color);\n",
              "      border-bottom-color: var(--fill-color);\n",
              "    }\n",
              "    90% {\n",
              "      border-color: transparent;\n",
              "      border-bottom-color: var(--fill-color);\n",
              "    }\n",
              "  }\n",
              "</style>\n",
              "\n",
              "  <script>\n",
              "    async function quickchart(key) {\n",
              "      const quickchartButtonEl =\n",
              "        document.querySelector('#' + key + ' button');\n",
              "      quickchartButtonEl.disabled = true;  // To prevent multiple clicks.\n",
              "      quickchartButtonEl.classList.add('colab-df-spinner');\n",
              "      try {\n",
              "        const charts = await google.colab.kernel.invokeFunction(\n",
              "            'suggestCharts', [key], {});\n",
              "      } catch (error) {\n",
              "        console.error('Error during call to suggestCharts:', error);\n",
              "      }\n",
              "      quickchartButtonEl.classList.remove('colab-df-spinner');\n",
              "      quickchartButtonEl.classList.add('colab-df-quickchart-complete');\n",
              "    }\n",
              "    (() => {\n",
              "      let quickchartButtonEl =\n",
              "        document.querySelector('#df-18e21433-e9e2-44a9-b19e-8c52a015e483 button');\n",
              "      quickchartButtonEl.style.display =\n",
              "        google.colab.kernel.accessAllowed ? 'block' : 'none';\n",
              "    })();\n",
              "  </script>\n",
              "</div>\n",
              "\n",
              "    </div>\n",
              "  </div>\n"
            ],
            "application/vnd.google.colaboratory.intrinsic+json": {
              "type": "dataframe",
              "summary": "{\n  \"name\": \"ds0\",\n  \"rows\": 5,\n  \"fields\": [\n    {\n      \"column\": \"Date\",\n      \"properties\": {\n        \"dtype\": \"category\",\n        \"num_unique_values\": 1,\n        \"samples\": [\n          \"########\"\n        ],\n        \"semantic_type\": \"\",\n        \"description\": \"\"\n      }\n    },\n    {\n      \"column\": \"Open\",\n      \"properties\": {\n        \"dtype\": \"number\",\n        \"std\": 173.6122273919678,\n        \"min\": 22614.1,\n        \"max\": 23038.95,\n        \"num_unique_values\": 5,\n        \"samples\": [\n          22930.75\n        ],\n        \"semantic_type\": \"\",\n        \"description\": \"\"\n      }\n    },\n    {\n      \"column\": \"High\",\n      \"properties\": {\n        \"dtype\": \"number\",\n        \"std\": 103.75356379421373,\n        \"min\": 22825.5,\n        \"max\": 23110.8,\n        \"num_unique_values\": 5,\n        \"samples\": [\n          23026.4\n        ],\n        \"semantic_type\": \"\",\n        \"description\": \"\"\n      }\n    },\n    {\n      \"column\": \"Low\",\n      \"properties\": {\n        \"dtype\": \"number\",\n        \"std\": 142.15293085265574,\n        \"min\": 22577.45,\n        \"max\": 22908.0,\n        \"num_unique_values\": 5,\n        \"samples\": [\n          22908.0\n        ],\n        \"semantic_type\": \"\",\n        \"description\": \"\"\n      }\n    },\n    {\n      \"column\": \"Close\",\n      \"properties\": {\n        \"dtype\": \"number\",\n        \"std\": 108.020191399571,\n        \"min\": 22704.7,\n        \"max\": 22967.65,\n        \"num_unique_values\": 5,\n        \"samples\": [\n          22957.1\n        ],\n        \"semantic_type\": \"\",\n        \"description\": \"\"\n      }\n    },\n    {\n      \"column\": \"Shares Traded\",\n      \"properties\": {\n        \"dtype\": \"number\",\n        \"std\": 56320511.36131489,\n        \"min\": 218000000.0,\n        \"max\": 370000000.0,\n        \"num_unique_values\": 5,\n        \"samples\": [\n          262000000.0\n        ],\n        \"semantic_type\": \"\",\n        \"description\": \"\"\n      }\n    },\n    {\n      \"column\": \"Turnover (? Cr)\",\n      \"properties\": {\n        \"dtype\": \"number\",\n        \"std\": 6019.137527493453,\n        \"min\": 23054.65,\n        \"max\": 39157.65,\n        \"num_unique_values\": 5,\n        \"samples\": [\n          27966.99\n        ],\n        \"semantic_type\": \"\",\n        \"description\": \"\"\n      }\n    }\n  ]\n}"
            }
          },
          "metadata": {},
          "execution_count": 43
        }
      ],
      "source": [
        "ds0.tail()"
      ]
    },
    {
      "cell_type": "code",
      "execution_count": null,
      "metadata": {
        "colab": {
          "base_uri": "https://localhost:8080/"
        },
        "id": "y3KzNuQlCb0s",
        "outputId": "307ca8a7-d605-40c8-d8b2-85dc6fcc91db"
      },
      "outputs": [
        {
          "output_type": "execute_result",
          "data": {
            "text/plain": [
              "(1341, 7)"
            ]
          },
          "metadata": {},
          "execution_count": 44
        }
      ],
      "source": [
        "ds0.shape"
      ]
    },
    {
      "cell_type": "code",
      "execution_count": null,
      "metadata": {
        "colab": {
          "base_uri": "https://localhost:8080/"
        },
        "id": "1P8wh3sNCd38",
        "outputId": "63fdc660-de36-4a8a-f1b8-23351c8a0869"
      },
      "outputs": [
        {
          "output_type": "execute_result",
          "data": {
            "text/plain": [
              "Date               0\n",
              "Open               0\n",
              "High               0\n",
              "Low                0\n",
              "Close              0\n",
              "Shares Traded      0\n",
              "Turnover (? Cr)    0\n",
              "dtype: int64"
            ]
          },
          "metadata": {},
          "execution_count": 45
        }
      ],
      "source": [
        "ds0.isnull().sum()"
      ]
    },
    {
      "cell_type": "code",
      "execution_count": null,
      "metadata": {
        "colab": {
          "base_uri": "https://localhost:8080/"
        },
        "id": "3rG3TBcQCf-j",
        "outputId": "a5060adc-e33d-4c27-c830-68f0a65cfdfb"
      },
      "outputs": [
        {
          "output_type": "stream",
          "name": "stdout",
          "text": [
            "0\n"
          ]
        }
      ],
      "source": [
        "duplicate_rows=ds0.duplicated()\n",
        "print(duplicate_rows.sum())"
      ]
    },
    {
      "cell_type": "code",
      "execution_count": null,
      "metadata": {
        "colab": {
          "base_uri": "https://localhost:8080/"
        },
        "id": "qMbSA05OCiic",
        "outputId": "cce38a91-0869-4c17-fcb7-f440d528cf23"
      },
      "outputs": [
        {
          "output_type": "stream",
          "name": "stdout",
          "text": [
            "<class 'pandas.core.frame.DataFrame'>\n",
            "RangeIndex: 1341 entries, 0 to 1340\n",
            "Data columns (total 7 columns):\n",
            " #   Column           Non-Null Count  Dtype  \n",
            "---  ------           --------------  -----  \n",
            " 0   Date             1341 non-null   object \n",
            " 1   Open             1341 non-null   float64\n",
            " 2   High             1341 non-null   float64\n",
            " 3   Low              1341 non-null   float64\n",
            " 4   Close            1341 non-null   float64\n",
            " 5   Shares Traded    1341 non-null   float64\n",
            " 6   Turnover (? Cr)  1341 non-null   float64\n",
            "dtypes: float64(6), object(1)\n",
            "memory usage: 73.5+ KB\n"
          ]
        }
      ],
      "source": [
        "ds0.info()"
      ]
    },
    {
      "cell_type": "code",
      "execution_count": null,
      "metadata": {
        "colab": {
          "base_uri": "https://localhost:8080/",
          "height": 447
        },
        "id": "AG63CeDDCp5f",
        "outputId": "2f56d3c2-ea53-4f48-bc92-52b2393eb1e5"
      },
      "outputs": [
        {
          "output_type": "execute_result",
          "data": {
            "text/plain": [
              "[<matplotlib.lines.Line2D at 0x7ab0bcc7e770>]"
            ]
          },
          "metadata": {},
          "execution_count": 48
        },
        {
          "output_type": "display_data",
          "data": {
            "text/plain": [
              "<Figure size 640x480 with 1 Axes>"
            ],
            "image/png": "[encoded data removed]"
          },
          "metadata": {}
        }
      ],
      "source": [
        "plt.plot(ds0[\"High\"])"
      ]
    },
    {
      "cell_type": "code",
      "execution_count": null,
      "metadata": {
        "colab": {
          "base_uri": "https://localhost:8080/",
          "height": 447
        },
        "id": "3srPKv2wIyV0",
        "outputId": "11de62b7-0262-4544-9fe3-a79cbc318bb0"
      },
      "outputs": [
        {
          "output_type": "execute_result",
          "data": {
            "text/plain": [
              "[<matplotlib.lines.Line2D at 0x7ab0c45c70d0>]"
            ]
          },
          "metadata": {},
          "execution_count": 49
        },
        {
          "output_type": "display_data",
          "data": {
            "text/plain": [
              "<Figure size 640x480 with 1 Axes>"
            ],
            "image/png": "[encoded data removed]"
          },
          "metadata": {}
        }
      ],
      "source": [
        "plt.plot(ds0[\"Low\"])"
      ]
    },
    {
      "cell_type": "code",
      "execution_count": null,
      "metadata": {
        "colab": {
          "base_uri": "https://localhost:8080/",
          "height": 206
        },
        "id": "AEHSuX2eMhoG",
        "outputId": "83a4959a-480b-4040-8e12-171e6dcf13fa"
      },
      "outputs": [
        {
          "output_type": "execute_result",
          "data": {
            "text/plain": [
              "          Date      Open      High       Low     Close  Shares Traded  \\\n",
              "1336  ########  22614.10  0.992225  0.978531  22967.65    370000000.0   \n",
              "1337  ########  22930.75  0.994401  1.000000  22957.10    262000000.0   \n",
              "1338  ########  23038.95  1.000000  0.997610  22932.45    260000000.0   \n",
              "1339  ########  22977.15  0.992553  0.996785  22888.15    218000000.0   \n",
              "1340  ########  22762.75  0.981073  0.985546  22704.70    270000000.0   \n",
              "\n",
              "      Turnover (? Cr)  \n",
              "1336         39157.65  \n",
              "1337         27966.99  \n",
              "1338         27204.54  \n",
              "1339         23054.65  \n",
              "1340         27549.09  "
            ],
            "text/html": [
              "\n",
              "  <div id=\"df-dc644fc2-f5c2-42e7-94db-439f946d8173\" class=\"colab-df-container\">\n",
              "    <div>\n",
              "<style scoped>\n",
              "    .dataframe tbody tr th:only-of-type {\n",
              "        vertical-align: middle;\n",
              "    }\n",
              "\n",
              "    .dataframe tbody tr th {\n",
              "        vertical-align: top;\n",
              "    }\n",
              "\n",
              "    .dataframe thead th {\n",
              "        text-align: right;\n",
              "    }\n",
              "</style>\n",
              "<table border=\"1\" class=\"dataframe\">\n",
              "  <thead>\n",
              "    <tr style=\"text-align: right;\">\n",
              "      <th></th>\n",
              "      <th>Date</th>\n",
              "      <th>Open</th>\n",
              "      <th>High</th>\n",
              "      <th>Low</th>\n",
              "      <th>Close</th>\n",
              "      <th>Shares Traded</th>\n",
              "      <th>Turnover (? Cr)</th>\n",
              "    </tr>\n",
              "  </thead>\n",
              "  <tbody>\n",
              "    <tr>\n",
              "      <th>1336</th>\n",
              "      <td>########</td>\n",
              "      <td>22614.10</td>\n",
              "      <td>0.992225</td>\n",
              "      <td>0.978531</td>\n",
              "      <td>22967.65</td>\n",
              "      <td>370000000.0</td>\n",
              "      <td>39157.65</td>\n",
              "    </tr>\n",
              "    <tr>\n",
              "      <th>1337</th>\n",
              "      <td>########</td>\n",
              "      <td>22930.75</td>\n",
              "      <td>0.994401</td>\n",
              "      <td>1.000000</td>\n",
              "      <td>22957.10</td>\n",
              "      <td>262000000.0</td>\n",
              "      <td>27966.99</td>\n",
              "    </tr>\n",
              "    <tr>\n",
              "      <th>1338</th>\n",
              "      <td>########</td>\n",
              "      <td>23038.95</td>\n",
              "      <td>1.000000</td>\n",
              "      <td>0.997610</td>\n",
              "      <td>22932.45</td>\n",
              "      <td>260000000.0</td>\n",
              "      <td>27204.54</td>\n",
              "    </tr>\n",
              "    <tr>\n",
              "      <th>1339</th>\n",
              "      <td>########</td>\n",
              "      <td>22977.15</td>\n",
              "      <td>0.992553</td>\n",
              "      <td>0.996785</td>\n",
              "      <td>22888.15</td>\n",
              "      <td>218000000.0</td>\n",
              "      <td>23054.65</td>\n",
              "    </tr>\n",
              "    <tr>\n",
              "      <th>1340</th>\n",
              "      <td>########</td>\n",
              "      <td>22762.75</td>\n",
              "      <td>0.981073</td>\n",
              "      <td>0.985546</td>\n",
              "      <td>22704.70</td>\n",
              "      <td>270000000.0</td>\n",
              "      <td>27549.09</td>\n",
              "    </tr>\n",
              "  </tbody>\n",
              "</table>\n",
              "</div>\n",
              "    <div class=\"colab-df-buttons\">\n",
              "\n",
              "  <div class=\"colab-df-container\">\n",
              "    <button class=\"colab-df-convert\" onclick=\"convertToInteractive('df-dc644fc2-f5c2-42e7-94db-439f946d8173')\"\n",
              "            title=\"Convert this dataframe to an interactive table.\"\n",
              "            style=\"display:none;\">\n",
              "\n",
              "  <svg xmlns=\"http://www.w3.org/2000/svg\" height=\"24px\" viewBox=\"0 -960 960 960\">\n",
              "    <path d=\"M120-120v-720h720v720H120Zm60-500h600v-160H180v160Zm220 220h160v-160H400v160Zm0 220h160v-160H400v160ZM180-400h160v-160H180v160Zm440 0h160v-160H620v160ZM180-180h160v-160H180v160Zm440 0h160v-160H620v160Z\"/>\n",
              "  </svg>\n",
              "    </button>\n",
              "\n",
              "  <style>\n",
              "    .colab-df-container {\n",
              "      display:flex;\n",
              "      gap: 12px;\n",
              "    }\n",
              "\n",
              "    .colab-df-convert {\n",
              "      background-color: #E8F0FE;\n",
              "      border: none;\n",
              "      border-radius: 50%;\n",
              "      cursor: pointer;\n",
              "      display: none;\n",
              "      fill: #1967D2;\n",
              "      height: 32px;\n",
              "      padding: 0 0 0 0;\n",
              "      width: 32px;\n",
              "    }\n",
              "\n",
              "    .colab-df-convert:hover {\n",
              "      background-color: #E2EBFA;\n",
              "      box-shadow: 0px 1px 2px rgba(60, 64, 67, 0.3), 0px 1px 3px 1px rgba(60, 64, 67, 0.15);\n",
              "      fill: #174EA6;\n",
              "    }\n",
              "\n",
              "    .colab-df-buttons div {\n",
              "      margin-bottom: 4px;\n",
              "    }\n",
              "\n",
              "    [theme=dark] .colab-df-convert {\n",
              "      background-color: #3B4455;\n",
              "      fill: #D2E3FC;\n",
              "    }\n",
              "\n",
              "    [theme=dark] .colab-df-convert:hover {\n",
              "      background-color: #434B5C;\n",
              "      box-shadow: 0px 1px 3px 1px rgba(0, 0, 0, 0.15);\n",
              "      filter: drop-shadow(0px 1px 2px rgba(0, 0, 0, 0.3));\n",
              "      fill: #FFFFFF;\n",
              "    }\n",
              "  </style>\n",
              "\n",
              "    <script>\n",
              "      const buttonEl =\n",
              "        document.querySelector('#df-dc644fc2-f5c2-42e7-94db-439f946d8173 button.colab-df-convert');\n",
              "      buttonEl.style.display =\n",
              "        google.colab.kernel.accessAllowed ? 'block' : 'none';\n",
              "\n",
              "      async function convertToInteractive(key) {\n",
              "        const element = document.querySelector('#df-dc644fc2-f5c2-42e7-94db-439f946d8173');\n",
              "        const dataTable =\n",
              "          await google.colab.kernel.invokeFunction('convertToInteractive',\n",
              "                                                    [key], {});\n",
              "        if (!dataTable) return;\n",
              "\n",
              "        const docLinkHtml = 'Like what you see? Visit the ' +\n",
              "          '<a target=\"_blank\" href=https://colab.research.google.com/notebooks/data_table.ipynb>data table notebook</a>'\n",
              "          + ' to learn more about interactive tables.';\n",
              "        element.innerHTML = '';\n",
              "        dataTable['output_type'] = 'display_data';\n",
              "        await google.colab.output.renderOutput(dataTable, element);\n",
              "        const docLink = document.createElement('div');\n",
              "        docLink.innerHTML = docLinkHtml;\n",
              "        element.appendChild(docLink);\n",
              "      }\n",
              "    </script>\n",
              "  </div>\n",
              "\n",
              "\n",
              "<div id=\"df-0c8f319d-290a-4288-8fe0-81b3496e6fa5\">\n",
              "  <button class=\"colab-df-quickchart\" onclick=\"quickchart('df-0c8f319d-290a-4288-8fe0-81b3496e6fa5')\"\n",
              "            title=\"Suggest charts\"\n",
              "            style=\"display:none;\">\n",
              "\n",
              "<svg xmlns=\"http://www.w3.org/2000/svg\" height=\"24px\"viewBox=\"0 0 24 24\"\n",
              "     width=\"24px\">\n",
              "    <g>\n",
              "        <path d=\"M19 3H5c-1.1 0-2 .9-2 2v14c0 1.1.9 2 2 2h14c1.1 0 2-.9 2-2V5c0-1.1-.9-2-2-2zM9 17H7v-7h2v7zm4 0h-2V7h2v10zm4 0h-2v-4h2v4z\"/>\n",
              "    </g>\n",
              "</svg>\n",
              "  </button>\n",
              "\n",
              "<style>\n",
              "  .colab-df-quickchart {\n",
              "      --bg-color: #E8F0FE;\n",
              "      --fill-color: #1967D2;\n",
              "      --hover-bg-color: #E2EBFA;\n",
              "      --hover-fill-color: #174EA6;\n",
              "      --disabled-fill-color: #AAA;\n",
              "      --disabled-bg-color: #DDD;\n",
              "  }\n",
              "\n",
              "  [theme=dark] .colab-df-quickchart {\n",
              "      --bg-color: #3B4455;\n",
              "      --fill-color: #D2E3FC;\n",
              "      --hover-bg-color: #434B5C;\n",
              "      --hover-fill-color: #FFFFFF;\n",
              "      --disabled-bg-color: #3B4455;\n",
              "      --disabled-fill-color: #666;\n",
              "  }\n",
              "\n",
              "  .colab-df-quickchart {\n",
              "    background-color: var(--bg-color);\n",
              "    border: none;\n",
              "    border-radius: 50%;\n",
              "    cursor: pointer;\n",
              "    display: none;\n",
              "    fill: var(--fill-color);\n",
              "    height: 32px;\n",
              "    padding: 0;\n",
              "    width: 32px;\n",
              "  }\n",
              "\n",
              "  .colab-df-quickchart:hover {\n",
              "    background-color: var(--hover-bg-color);\n",
              "    box-shadow: 0 1px 2px rgba(60, 64, 67, 0.3), 0 1px 3px 1px rgba(60, 64, 67, 0.15);\n",
              "    fill: var(--button-hover-fill-color);\n",
              "  }\n",
              "\n",
              "  .colab-df-quickchart-complete:disabled,\n",
              "  .colab-df-quickchart-complete:disabled:hover {\n",
              "    background-color: var(--disabled-bg-color);\n",
              "    fill: var(--disabled-fill-color);\n",
              "    box-shadow: none;\n",
              "  }\n",
              "\n",
              "  .colab-df-spinner {\n",
              "    border: 2px solid var(--fill-color);\n",
              "    border-color: transparent;\n",
              "    border-bottom-color: var(--fill-color);\n",
              "    animation:\n",
              "      spin 1s steps(1) infinite;\n",
              "  }\n",
              "\n",
              "  @keyframes spin {\n",
              "    0% {\n",
              "      border-color: transparent;\n",
              "      border-bottom-color: var(--fill-color);\n",
              "      border-left-color: var(--fill-color);\n",
              "    }\n",
              "    20% {\n",
              "      border-color: transparent;\n",
              "      border-left-color: var(--fill-color);\n",
              "      border-top-color: var(--fill-color);\n",
              "    }\n",
              "    30% {\n",
              "      border-color: transparent;\n",
              "      border-left-color: var(--fill-color);\n",
              "      border-top-color: var(--fill-color);\n",
              "      border-right-color: var(--fill-color);\n",
              "    }\n",
              "    40% {\n",
              "      border-color: transparent;\n",
              "      border-right-color: var(--fill-color);\n",
              "      border-top-color: var(--fill-color);\n",
              "    }\n",
              "    60% {\n",
              "      border-color: transparent;\n",
              "      border-right-color: var(--fill-color);\n",
              "    }\n",
              "    80% {\n",
              "      border-color: transparent;\n",
              "      border-right-color: var(--fill-color);\n",
              "      border-bottom-color: var(--fill-color);\n",
              "    }\n",
              "    90% {\n",
              "      border-color: transparent;\n",
              "      border-bottom-color: var(--fill-color);\n",
              "    }\n",
              "  }\n",
              "</style>\n",
              "\n",
              "  <script>\n",
              "    async function quickchart(key) {\n",
              "      const quickchartButtonEl =\n",
              "        document.querySelector('#' + key + ' button');\n",
              "      quickchartButtonEl.disabled = true;  // To prevent multiple clicks.\n",
              "      quickchartButtonEl.classList.add('colab-df-spinner');\n",
              "      try {\n",
              "        const charts = await google.colab.kernel.invokeFunction(\n",
              "            'suggestCharts', [key], {});\n",
              "      } catch (error) {\n",
              "        console.error('Error during call to suggestCharts:', error);\n",
              "      }\n",
              "      quickchartButtonEl.classList.remove('colab-df-spinner');\n",
              "      quickchartButtonEl.classList.add('colab-df-quickchart-complete');\n",
              "    }\n",
              "    (() => {\n",
              "      let quickchartButtonEl =\n",
              "        document.querySelector('#df-0c8f319d-290a-4288-8fe0-81b3496e6fa5 button');\n",
              "      quickchartButtonEl.style.display =\n",
              "        google.colab.kernel.accessAllowed ? 'block' : 'none';\n",
              "    })();\n",
              "  </script>\n",
              "</div>\n",
              "\n",
              "    </div>\n",
              "  </div>\n"
            ],
            "application/vnd.google.colaboratory.intrinsic+json": {
              "type": "dataframe",
              "summary": "{\n  \"name\": \"ds0\",\n  \"rows\": 5,\n  \"fields\": [\n    {\n      \"column\": \"Date\",\n      \"properties\": {\n        \"dtype\": \"category\",\n        \"num_unique_values\": 1,\n        \"samples\": [\n          \"########\"\n        ],\n        \"semantic_type\": \"\",\n        \"description\": \"\"\n      }\n    },\n    {\n      \"column\": \"Open\",\n      \"properties\": {\n        \"dtype\": \"number\",\n        \"std\": 173.6122273919678,\n        \"min\": 22614.1,\n        \"max\": 23038.95,\n        \"num_unique_values\": 5,\n        \"samples\": [\n          22930.75\n        ],\n        \"semantic_type\": \"\",\n        \"description\": \"\"\n      }\n    },\n    {\n      \"column\": \"High\",\n      \"properties\": {\n        \"dtype\": \"number\",\n        \"std\": 0.00688301686657442,\n        \"min\": 0.981073183028888,\n        \"max\": 1.0,\n        \"num_unique_values\": 5,\n        \"samples\": [\n          0.9944008995711119\n        ],\n        \"semantic_type\": \"\",\n        \"description\": \"\"\n      }\n    },\n    {\n      \"column\": \"Low\",\n      \"properties\": {\n        \"dtype\": \"number\",\n        \"std\": 0.009232568299635409,\n        \"min\": 0.9785313926829426,\n        \"max\": 1.0,\n        \"num_unique_values\": 5,\n        \"samples\": [\n          1.0\n        ],\n        \"semantic_type\": \"\",\n        \"description\": \"\"\n      }\n    },\n    {\n      \"column\": \"Close\",\n      \"properties\": {\n        \"dtype\": \"number\",\n        \"std\": 108.020191399571,\n        \"min\": 22704.7,\n        \"max\": 22967.65,\n        \"num_unique_values\": 5,\n        \"samples\": [\n          22957.1\n        ],\n        \"semantic_type\": \"\",\n        \"description\": \"\"\n      }\n    },\n    {\n      \"column\": \"Shares Traded\",\n      \"properties\": {\n        \"dtype\": \"number\",\n        \"std\": 56320511.36131489,\n        \"min\": 218000000.0,\n        \"max\": 370000000.0,\n        \"num_unique_values\": 5,\n        \"samples\": [\n          262000000.0\n        ],\n        \"semantic_type\": \"\",\n        \"description\": \"\"\n      }\n    },\n    {\n      \"column\": \"Turnover (? Cr)\",\n      \"properties\": {\n        \"dtype\": \"number\",\n        \"std\": 6019.137527493453,\n        \"min\": 23054.65,\n        \"max\": 39157.65,\n        \"num_unique_values\": 5,\n        \"samples\": [\n          27966.99\n        ],\n        \"semantic_type\": \"\",\n        \"description\": \"\"\n      }\n    }\n  ]\n}"
            }
          },
          "metadata": {},
          "execution_count": 50
        }
      ],
      "source": [
        "from sklearn.preprocessing import MinMaxScaler\n",
        "\n",
        "scaler=MinMaxScaler(feature_range=(0,1))\n",
        "\n",
        "ds1=ds0[\"High\"]\n",
        "np1=np.array(ds1).reshape(-1,1)\n",
        "model=scaler.fit(np1)\n",
        "np2=model.transform(np1)\n",
        "ds0[\"High\"]=np2\n",
        "\n",
        "ds1=ds0[\"Low\"]\n",
        "np1=np.array(ds1).reshape(-1,1)\n",
        "model=scaler.fit(np1)\n",
        "np2=model.transform(np1)\n",
        "ds0[\"Low\"]=np2\n",
        "\n",
        "ds0.tail()"
      ]
    },
    {
      "cell_type": "markdown",
      "source": [
        "HIGH PREDICTION"
      ],
      "metadata": {
        "id": "l0LZ2g2SFuKL"
      }
    },
    {
      "cell_type": "code",
      "execution_count": null,
      "metadata": {
        "id": "Fok9AV1wMlh-"
      },
      "outputs": [],
      "source": [
        "ds1=ds0[\"High\"]\n",
        "ds1=np.array(ds1).reshape(-1,1)"
      ]
    },
    {
      "cell_type": "code",
      "execution_count": null,
      "metadata": {
        "colab": {
          "base_uri": "https://localhost:8080/"
        },
        "id": "_gaZiBC-Mpmz",
        "outputId": "fbd4e8b7-8325-443f-97a1-58dac67fa213"
      },
      "outputs": [
        {
          "output_type": "stream",
          "name": "stdout",
          "text": [
            "938 403\n"
          ]
        }
      ],
      "source": [
        "training_size=int(len(ds1)*0.7)\n",
        "test_size=len(ds1)-training_size\n",
        "print(training_size,test_size)\n",
        "train_data,test_data=ds1[0:training_size,:],ds1[training_size:len(ds1),:1]"
      ]
    },
    {
      "cell_type": "code",
      "execution_count": null,
      "metadata": {
        "id": "Ji6dQVW1MtPh"
      },
      "outputs": [],
      "source": [
        "def create_dataset(dataset, time_step=1):\n",
        "\tdataX, dataY = [], []\n",
        "\tfor i in range(len(dataset)-time_step-1):\n",
        "\t\ta = dataset[i:(i+time_step), 0]\n",
        "\t\tdataX.append(a)\n",
        "\t\tdataY.append(dataset[i + time_step, 0])\n",
        "\treturn np.array(dataX), np.array(dataY)"
      ]
    },
    {
      "cell_type": "code",
      "execution_count": null,
      "metadata": {
        "id": "39ScSWEHMvlF"
      },
      "outputs": [],
      "source": [
        "time_step = 100\n",
        "X_train, Y_train = create_dataset(train_data, time_step)\n",
        "X_test, Y_test = create_dataset(test_data, time_step)"
      ]
    },
    {
      "cell_type": "code",
      "execution_count": null,
      "metadata": {
        "colab": {
          "base_uri": "https://localhost:8080/"
        },
        "id": "R55L1ke2MyhU",
        "outputId": "36f45eb0-f0d7-4804-ebd1-7b1717d8f57d"
      },
      "outputs": [
        {
          "output_type": "stream",
          "name": "stdout",
          "text": [
            "(837, 100)\n",
            "(837,)\n"
          ]
        },
        {
          "output_type": "execute_result",
          "data": {
            "text/plain": [
              "(None, None)"
            ]
          },
          "metadata": {},
          "execution_count": 55
        }
      ],
      "source": [
        "print(X_train.shape), print(Y_train.shape)"
      ]
    },
    {
      "cell_type": "code",
      "execution_count": null,
      "metadata": {
        "colab": {
          "base_uri": "https://localhost:8080/"
        },
        "id": "A9PPUJAaM21d",
        "outputId": "f349217f-55c7-4476-c68c-562bb305ec6d"
      },
      "outputs": [
        {
          "output_type": "stream",
          "name": "stdout",
          "text": [
            "(302, 100)\n",
            "(302,)\n"
          ]
        },
        {
          "output_type": "execute_result",
          "data": {
            "text/plain": [
              "(None, None)"
            ]
          },
          "metadata": {},
          "execution_count": 56
        }
      ],
      "source": [
        "print(X_test.shape), print(Y_test.shape)"
      ]
    },
    {
      "cell_type": "code",
      "execution_count": null,
      "metadata": {
        "id": "1DLudV-uM5Sl"
      },
      "outputs": [],
      "source": [
        "X_train =X_train.reshape(X_train.shape[0],X_train.shape[1] , 1)\n",
        "X_test = X_test.reshape(X_test.shape[0],X_test.shape[1] , 1)"
      ]
    },
    {
      "cell_type": "code",
      "execution_count": null,
      "metadata": {
        "id": "VeMvrS34M7hW"
      },
      "outputs": [],
      "source": [
        "from keras.models import Sequential\n",
        "from keras.layers import LSTM, Dense, Dropout\n",
        "\n",
        "model=Sequential()\n",
        "model.add(LSTM(32,return_sequences=True,input_shape=(100,1)))\n",
        "model.add(Dropout(0.2))\n",
        "model.add(LSTM(32,return_sequences=True))\n",
        "model.add(Dropout(0.2))\n",
        "model.add(LSTM(32))\n",
        "model.add(Dropout(0.2))\n",
        "model.add(Dense(16))\n",
        "model.add(Dense(1))\n",
        "model.compile(loss='mean_squared_error',optimizer='adam')"
      ]
    },
    {
      "cell_type": "code",
      "execution_count": null,
      "metadata": {
        "colab": {
          "base_uri": "https://localhost:8080/"
        },
        "id": "xk4en8WKM9qY",
        "outputId": "d6415bb7-425f-4125-c42a-012ebebe33dd"
      },
      "outputs": [
        {
          "output_type": "stream",
          "name": "stdout",
          "text": [
            "Model: \"sequential_1\"\n",
            "_________________________________________________________________\n",
            " Layer (type)                Output Shape              Param #   \n",
            "=================================================================\n",
            " lstm_3 (LSTM)               (None, 100, 32)           4352      \n",
            "                                                                 \n",
            " dropout_3 (Dropout)         (None, 100, 32)           0         \n",
            "                                                                 \n",
            " lstm_4 (LSTM)               (None, 100, 32)           8320      \n",
            "                                                                 \n",
            " dropout_4 (Dropout)         (None, 100, 32)           0         \n",
            "                                                                 \n",
            " lstm_5 (LSTM)               (None, 32)                8320      \n",
            "                                                                 \n",
            " dropout_5 (Dropout)         (None, 32)                0         \n",
            "                                                                 \n",
            " dense_2 (Dense)             (None, 16)                528       \n",
            "                                                                 \n",
            " dense_3 (Dense)             (None, 1)                 17        \n",
            "                                                                 \n",
            "=================================================================\n",
            "Total params: 21537 (84.13 KB)\n",
            "Trainable params: 21537 (84.13 KB)\n",
            "Non-trainable params: 0 (0.00 Byte)\n",
            "_________________________________________________________________\n"
          ]
        }
      ],
      "source": [
        "model.summary()"
      ]
    },
    {
      "cell_type": "code",
      "execution_count": null,
      "metadata": {
        "colab": {
          "base_uri": "https://localhost:8080/"
        },
        "id": "WLnKys0RNBGj",
        "outputId": "d3bd15d7-b16b-46ed-d994-6f89cdbe4117"
      },
      "outputs": [
        {
          "output_type": "stream",
          "name": "stdout",
          "text": [
            "Epoch 1/100\n",
            "35/35 [==============================] - 6s 45ms/step - loss: 0.0263 - val_loss: 0.0124\n",
            "Epoch 2/100\n",
            "35/35 [==============================] - 1s 16ms/step - loss: 0.0050 - val_loss: 0.0047\n",
            "Epoch 3/100\n",
            "35/35 [==============================] - 1s 16ms/step - loss: 0.0037 - val_loss: 0.0014\n",
            "Epoch 4/100\n",
            "35/35 [==============================] - 1s 16ms/step - loss: 0.0034 - val_loss: 6.8363e-04\n",
            "Epoch 5/100\n",
            "35/35 [==============================] - 1s 16ms/step - loss: 0.0032 - val_loss: 6.2141e-04\n",
            "Epoch 6/100\n",
            "35/35 [==============================] - 1s 16ms/step - loss: 0.0024 - val_loss: 0.0026\n",
            "Epoch 7/100\n",
            "35/35 [==============================] - 1s 21ms/step - loss: 0.0024 - val_loss: 5.5191e-04\n",
            "Epoch 8/100\n",
            "35/35 [==============================] - 1s 23ms/step - loss: 0.0027 - val_loss: 0.0019\n",
            "Epoch 9/100\n",
            "35/35 [==============================] - 1s 23ms/step - loss: 0.0025 - val_loss: 0.0079\n",
            "Epoch 10/100\n",
            "35/35 [==============================] - 1s 18ms/step - loss: 0.0023 - val_loss: 0.0044\n",
            "Epoch 11/100\n",
            "35/35 [==============================] - 1s 16ms/step - loss: 0.0023 - val_loss: 0.0020\n",
            "Epoch 12/100\n",
            "35/35 [==============================] - 1s 16ms/step - loss: 0.0018 - val_loss: 0.0056\n",
            "Epoch 13/100\n",
            "35/35 [==============================] - 1s 15ms/step - loss: 0.0020 - val_loss: 0.0016\n",
            "Epoch 14/100\n",
            "35/35 [==============================] - 1s 16ms/step - loss: 0.0018 - val_loss: 0.0015\n",
            "Epoch 15/100\n",
            "35/35 [==============================] - 1s 15ms/step - loss: 0.0017 - val_loss: 0.0046\n",
            "Epoch 16/100\n",
            "35/35 [==============================] - 1s 16ms/step - loss: 0.0016 - val_loss: 0.0058\n",
            "Epoch 17/100\n",
            "35/35 [==============================] - 1s 15ms/step - loss: 0.0018 - val_loss: 0.0062\n",
            "Epoch 18/100\n",
            "35/35 [==============================] - 1s 16ms/step - loss: 0.0016 - val_loss: 0.0030\n",
            "Epoch 19/100\n",
            "35/35 [==============================] - 1s 16ms/step - loss: 0.0016 - val_loss: 0.0026\n",
            "Epoch 20/100\n",
            "35/35 [==============================] - 1s 16ms/step - loss: 0.0015 - val_loss: 0.0017\n",
            "Epoch 21/100\n",
            "35/35 [==============================] - 1s 16ms/step - loss: 0.0014 - val_loss: 0.0029\n",
            "Epoch 22/100\n",
            "35/35 [==============================] - 1s 15ms/step - loss: 0.0012 - val_loss: 8.5127e-04\n",
            "Epoch 23/100\n",
            "35/35 [==============================] - 1s 16ms/step - loss: 0.0012 - val_loss: 6.8136e-04\n",
            "Epoch 24/100\n",
            "35/35 [==============================] - 1s 15ms/step - loss: 0.0013 - val_loss: 0.0014\n",
            "Epoch 25/100\n",
            "35/35 [==============================] - 1s 16ms/step - loss: 0.0013 - val_loss: 0.0013\n",
            "Epoch 26/100\n",
            "35/35 [==============================] - 1s 16ms/step - loss: 0.0012 - val_loss: 0.0016\n",
            "Epoch 27/100\n",
            "35/35 [==============================] - 1s 16ms/step - loss: 0.0013 - val_loss: 7.1228e-04\n",
            "Epoch 28/100\n",
            "35/35 [==============================] - 1s 21ms/step - loss: 0.0012 - val_loss: 0.0021\n",
            "Epoch 29/100\n",
            "35/35 [==============================] - 1s 21ms/step - loss: 0.0012 - val_loss: 5.0396e-04\n",
            "Epoch 30/100\n",
            "35/35 [==============================] - 1s 22ms/step - loss: 0.0012 - val_loss: 0.0015\n",
            "Epoch 31/100\n",
            "35/35 [==============================] - 1s 21ms/step - loss: 0.0011 - val_loss: 0.0012\n",
            "Epoch 32/100\n",
            "35/35 [==============================] - 1s 16ms/step - loss: 0.0011 - val_loss: 4.5245e-04\n",
            "Epoch 33/100\n",
            "35/35 [==============================] - 1s 16ms/step - loss: 0.0013 - val_loss: 0.0018\n",
            "Epoch 34/100\n",
            "35/35 [==============================] - 1s 16ms/step - loss: 0.0013 - val_loss: 0.0015\n",
            "Epoch 35/100\n",
            "35/35 [==============================] - 1s 16ms/step - loss: 0.0012 - val_loss: 4.3027e-04\n",
            "Epoch 36/100\n",
            "35/35 [==============================] - 1s 16ms/step - loss: 0.0011 - val_loss: 6.3466e-04\n",
            "Epoch 37/100\n",
            "35/35 [==============================] - 1s 16ms/step - loss: 0.0011 - val_loss: 0.0020\n",
            "Epoch 38/100\n",
            "35/35 [==============================] - 1s 17ms/step - loss: 0.0010 - val_loss: 5.1112e-04\n",
            "Epoch 39/100\n",
            "35/35 [==============================] - 1s 16ms/step - loss: 0.0012 - val_loss: 4.5001e-04\n",
            "Epoch 40/100\n",
            "35/35 [==============================] - 1s 16ms/step - loss: 0.0011 - val_loss: 4.1617e-04\n",
            "Epoch 41/100\n",
            "35/35 [==============================] - 1s 16ms/step - loss: 0.0011 - val_loss: 6.6493e-04\n",
            "Epoch 42/100\n",
            "35/35 [==============================] - 1s 16ms/step - loss: 0.0012 - val_loss: 0.0013\n",
            "Epoch 43/100\n",
            "35/35 [==============================] - 1s 16ms/step - loss: 0.0010 - val_loss: 3.2444e-04\n",
            "Epoch 44/100\n",
            "35/35 [==============================] - 1s 16ms/step - loss: 9.0089e-04 - val_loss: 8.8181e-04\n",
            "Epoch 45/100\n",
            "35/35 [==============================] - 1s 16ms/step - loss: 0.0010 - val_loss: 6.2195e-04\n",
            "Epoch 46/100\n",
            "35/35 [==============================] - 1s 16ms/step - loss: 9.8641e-04 - val_loss: 0.0015\n",
            "Epoch 47/100\n",
            "35/35 [==============================] - 1s 16ms/step - loss: 9.6196e-04 - val_loss: 3.9038e-04\n",
            "Epoch 48/100\n",
            "35/35 [==============================] - 1s 16ms/step - loss: 8.9880e-04 - val_loss: 7.1384e-04\n",
            "Epoch 49/100\n",
            "35/35 [==============================] - 1s 19ms/step - loss: 0.0011 - val_loss: 0.0011\n",
            "Epoch 50/100\n",
            "35/35 [==============================] - 1s 22ms/step - loss: 9.8178e-04 - val_loss: 0.0013\n",
            "Epoch 51/100\n",
            "35/35 [==============================] - 1s 23ms/step - loss: 9.1063e-04 - val_loss: 6.3665e-04\n",
            "Epoch 52/100\n",
            "35/35 [==============================] - 1s 18ms/step - loss: 9.7809e-04 - val_loss: 0.0023\n",
            "Epoch 53/100\n",
            "35/35 [==============================] - 1s 16ms/step - loss: 0.0010 - val_loss: 0.0011\n",
            "Epoch 54/100\n",
            "35/35 [==============================] - 1s 15ms/step - loss: 9.2791e-04 - val_loss: 0.0018\n",
            "Epoch 55/100\n",
            "35/35 [==============================] - 1s 16ms/step - loss: 9.2197e-04 - val_loss: 0.0023\n",
            "Epoch 56/100\n",
            "35/35 [==============================] - 1s 16ms/step - loss: 9.5291e-04 - val_loss: 0.0024\n",
            "Epoch 57/100\n",
            "35/35 [==============================] - 1s 15ms/step - loss: 8.8941e-04 - val_loss: 7.1322e-04\n",
            "Epoch 58/100\n",
            "35/35 [==============================] - 1s 16ms/step - loss: 9.3289e-04 - val_loss: 0.0042\n",
            "Epoch 59/100\n",
            "35/35 [==============================] - 1s 16ms/step - loss: 9.7957e-04 - val_loss: 6.9097e-04\n",
            "Epoch 60/100\n",
            "35/35 [==============================] - 1s 16ms/step - loss: 9.0023e-04 - val_loss: 0.0011\n",
            "Epoch 61/100\n",
            "35/35 [==============================] - 1s 16ms/step - loss: 8.6135e-04 - val_loss: 9.3384e-04\n",
            "Epoch 62/100\n",
            "35/35 [==============================] - 1s 16ms/step - loss: 8.5193e-04 - val_loss: 0.0011\n",
            "Epoch 63/100\n",
            "35/35 [==============================] - 1s 16ms/step - loss: 8.1573e-04 - val_loss: 0.0012\n",
            "Epoch 64/100\n",
            "35/35 [==============================] - 1s 16ms/step - loss: 7.9938e-04 - val_loss: 0.0025\n",
            "Epoch 65/100\n",
            "35/35 [==============================] - 1s 16ms/step - loss: 9.1651e-04 - val_loss: 5.8348e-04\n",
            "Epoch 66/100\n",
            "35/35 [==============================] - 1s 16ms/step - loss: 8.4122e-04 - val_loss: 5.2593e-04\n",
            "Epoch 67/100\n",
            "35/35 [==============================] - 1s 16ms/step - loss: 9.5781e-04 - val_loss: 0.0025\n",
            "Epoch 68/100\n",
            "35/35 [==============================] - 1s 16ms/step - loss: 9.3015e-04 - val_loss: 0.0023\n",
            "Epoch 69/100\n",
            "35/35 [==============================] - 1s 16ms/step - loss: 8.3086e-04 - val_loss: 0.0018\n",
            "Epoch 70/100\n",
            "35/35 [==============================] - 1s 22ms/step - loss: 8.5812e-04 - val_loss: 6.1697e-04\n",
            "Epoch 71/100\n",
            "35/35 [==============================] - 1s 22ms/step - loss: 9.8867e-04 - val_loss: 0.0012\n",
            "Epoch 72/100\n",
            "35/35 [==============================] - 1s 23ms/step - loss: 7.8036e-04 - val_loss: 4.0103e-04\n",
            "Epoch 73/100\n",
            "35/35 [==============================] - 1s 17ms/step - loss: 8.0022e-04 - val_loss: 3.2556e-04\n",
            "Epoch 74/100\n",
            "35/35 [==============================] - 1s 16ms/step - loss: 9.3488e-04 - val_loss: 0.0022\n",
            "Epoch 75/100\n",
            "35/35 [==============================] - 1s 16ms/step - loss: 9.1115e-04 - val_loss: 7.8557e-04\n",
            "Epoch 76/100\n",
            "35/35 [==============================] - 1s 16ms/step - loss: 7.7845e-04 - val_loss: 8.3550e-04\n",
            "Epoch 77/100\n",
            "35/35 [==============================] - 1s 16ms/step - loss: 7.6690e-04 - val_loss: 6.6147e-04\n",
            "Epoch 78/100\n",
            "35/35 [==============================] - 1s 16ms/step - loss: 9.0935e-04 - val_loss: 0.0010\n",
            "Epoch 79/100\n",
            "35/35 [==============================] - 1s 15ms/step - loss: 8.4832e-04 - val_loss: 4.6484e-04\n",
            "Epoch 80/100\n",
            "35/35 [==============================] - 1s 16ms/step - loss: 8.8475e-04 - val_loss: 0.0011\n",
            "Epoch 81/100\n",
            "35/35 [==============================] - 1s 16ms/step - loss: 7.6530e-04 - val_loss: 3.2410e-04\n",
            "Epoch 82/100\n",
            "35/35 [==============================] - 1s 17ms/step - loss: 8.1731e-04 - val_loss: 2.9823e-04\n",
            "Epoch 83/100\n",
            "35/35 [==============================] - 1s 16ms/step - loss: 7.6303e-04 - val_loss: 4.2184e-04\n",
            "Epoch 84/100\n",
            "35/35 [==============================] - 1s 16ms/step - loss: 7.7311e-04 - val_loss: 4.4781e-04\n",
            "Epoch 85/100\n",
            "35/35 [==============================] - 1s 16ms/step - loss: 8.1325e-04 - val_loss: 0.0015\n",
            "Epoch 86/100\n",
            "35/35 [==============================] - 1s 16ms/step - loss: 8.0133e-04 - val_loss: 0.0021\n",
            "Epoch 87/100\n",
            "35/35 [==============================] - 1s 17ms/step - loss: 8.1704e-04 - val_loss: 7.3039e-04\n",
            "Epoch 88/100\n",
            "35/35 [==============================] - 1s 16ms/step - loss: 8.5579e-04 - val_loss: 0.0018\n",
            "Epoch 89/100\n",
            "35/35 [==============================] - 1s 17ms/step - loss: 8.1688e-04 - val_loss: 0.0013\n",
            "Epoch 90/100\n",
            "35/35 [==============================] - 1s 18ms/step - loss: 7.9770e-04 - val_loss: 0.0012\n",
            "Epoch 91/100\n",
            "35/35 [==============================] - 1s 21ms/step - loss: 7.0972e-04 - val_loss: 7.9759e-04\n",
            "Epoch 92/100\n",
            "35/35 [==============================] - 1s 24ms/step - loss: 7.9716e-04 - val_loss: 0.0025\n",
            "Epoch 93/100\n",
            "35/35 [==============================] - 1s 21ms/step - loss: 7.7965e-04 - val_loss: 6.7204e-04\n",
            "Epoch 94/100\n",
            "35/35 [==============================] - 1s 16ms/step - loss: 8.2094e-04 - val_loss: 4.0687e-04\n",
            "Epoch 95/100\n",
            "35/35 [==============================] - 1s 17ms/step - loss: 8.9337e-04 - val_loss: 0.0018\n",
            "Epoch 96/100\n",
            "35/35 [==============================] - 1s 16ms/step - loss: 7.6402e-04 - val_loss: 0.0023\n",
            "Epoch 97/100\n",
            "35/35 [==============================] - 1s 16ms/step - loss: 7.2511e-04 - val_loss: 5.4536e-04\n",
            "Epoch 98/100\n",
            "35/35 [==============================] - 1s 16ms/step - loss: 8.1457e-04 - val_loss: 7.2698e-04\n",
            "Epoch 99/100\n",
            "35/35 [==============================] - 1s 16ms/step - loss: 7.3133e-04 - val_loss: 0.0013\n",
            "Epoch 100/100\n",
            "35/35 [==============================] - 1s 17ms/step - loss: 7.9996e-04 - val_loss: 2.7120e-04\n"
          ]
        },
        {
          "output_type": "execute_result",
          "data": {
            "text/plain": [
              "<keras.src.callbacks.History at 0x7ab0bca24d00>"
            ]
          },
          "metadata": {},
          "execution_count": 60
        }
      ],
      "source": [
        "model.fit(X_train,Y_train,validation_data=(X_test,Y_test),epochs=100,batch_size=24,verbose=1)"
      ]
    },
    {
      "cell_type": "code",
      "execution_count": null,
      "metadata": {
        "colab": {
          "base_uri": "https://localhost:8080/"
        },
        "id": "NbAYzp36NE4A",
        "outputId": "bdc6211c-66ce-4e61-9d5b-a978cd15c93b"
      },
      "outputs": [
        {
          "output_type": "stream",
          "name": "stdout",
          "text": [
            "27/27 [==============================] - 1s 6ms/step\n",
            "10/10 [==============================] - 0s 6ms/step\n"
          ]
        }
      ],
      "source": [
        "train_predict=model.predict(X_train)\n",
        "test_predict=model.predict(X_test)"
      ]
    },
    {
      "cell_type": "code",
      "execution_count": null,
      "metadata": {
        "id": "sDHs2woqO02h"
      },
      "outputs": [],
      "source": [
        "train_predict=scaler.inverse_transform(train_predict)\n",
        "test_predict=scaler.inverse_transform(test_predict)"
      ]
    },
    {
      "cell_type": "code",
      "execution_count": null,
      "metadata": {
        "colab": {
          "base_uri": "https://localhost:8080/"
        },
        "id": "R12PsgRxO6so",
        "outputId": "13d85e9a-189f-4445-a803-0c6d71dcb984"
      },
      "outputs": [
        {
          "output_type": "execute_result",
          "data": {
            "text/plain": [
              "14126.4127056665"
            ]
          },
          "metadata": {},
          "execution_count": 63
        }
      ],
      "source": [
        "import math\n",
        "from sklearn.metrics import mean_squared_error\n",
        "math.sqrt(mean_squared_error(Y_train,train_predict))"
      ]
    },
    {
      "cell_type": "code",
      "execution_count": null,
      "metadata": {
        "colab": {
          "base_uri": "https://localhost:8080/"
        },
        "id": "T_3ynENEO9ec",
        "outputId": "72c4c151-6ee4-4433-e827-833c2951a13e"
      },
      "outputs": [
        {
          "output_type": "execute_result",
          "data": {
            "text/plain": [
              "20115.360448736705"
            ]
          },
          "metadata": {},
          "execution_count": 64
        }
      ],
      "source": [
        "math.sqrt(mean_squared_error(Y_test,test_predict))"
      ]
    },
    {
      "cell_type": "code",
      "execution_count": null,
      "metadata": {
        "colab": {
          "base_uri": "https://localhost:8080/",
          "height": 430
        },
        "id": "jD-hUNZIPBDw",
        "outputId": "1957f415-ec8a-4e7d-84d3-b42edff13201"
      },
      "outputs": [
        {
          "output_type": "display_data",
          "data": {
            "text/plain": [
              "<Figure size 640x480 with 1 Axes>"
            ],
            "image/png": "[encoded data removed]"
          },
          "metadata": {}
        }
      ],
      "source": [
        "# shift train predictions for plotting\n",
        "look_back=100\n",
        "trainPredictPlot = np.empty_like(ds1)\n",
        "trainPredictPlot[:, :] = np.nan\n",
        "trainPredictPlot[look_back:len(train_predict)+look_back, :] = train_predict\n",
        "\n",
        "# shift test predictions for plotting\n",
        "testPredictPlot = np.empty_like(ds1)\n",
        "testPredictPlot[:, :] = np.nan\n",
        "testPredictPlot[len(train_predict)+(look_back*2)+1:len(ds1)-1, :] = test_predict\n",
        "\n",
        "# plot baseline and predictions\n",
        "plt.plot(scaler.inverse_transform(ds1))\n",
        "plt.plot(trainPredictPlot)\n",
        "plt.plot(testPredictPlot)\n",
        "plt.show()"
      ]
    },
    {
      "cell_type": "code",
      "execution_count": null,
      "metadata": {
        "colab": {
          "base_uri": "https://localhost:8080/"
        },
        "id": "DddYu2nIPHiy",
        "outputId": "b88ac334-0bd0-497a-c65c-3fff8e15033b"
      },
      "outputs": [
        {
          "output_type": "execute_result",
          "data": {
            "text/plain": [
              "403"
            ]
          },
          "metadata": {},
          "execution_count": 66
        }
      ],
      "source": [
        "len(test_data)"
      ]
    },
    {
      "cell_type": "code",
      "execution_count": null,
      "metadata": {
        "colab": {
          "base_uri": "https://localhost:8080/"
        },
        "id": "v502ilNnG9eJ",
        "outputId": "dead43e8-aae4-48da-c403-a8c15c3bc477"
      },
      "outputs": [
        {
          "output_type": "execute_result",
          "data": {
            "text/plain": [
              "(1, 100)"
            ]
          },
          "metadata": {},
          "execution_count": 67
        }
      ],
      "source": [
        "X_input=test_data[303:].reshape(1,-1)\n",
        "X_input.shape"
      ]
    },
    {
      "cell_type": "code",
      "execution_count": null,
      "metadata": {
        "id": "OkckwgviHAAa"
      },
      "outputs": [],
      "source": [
        "temp_input=list(X_input)\n",
        "temp_input=temp_input[0].tolist()"
      ]
    },
    {
      "cell_type": "code",
      "execution_count": null,
      "metadata": {
        "colab": {
          "base_uri": "https://localhost:8080/"
        },
        "id": "ysEafOuvHCKh",
        "outputId": "de74739f-5838-41e8-e24d-fa151665952e"
      },
      "outputs": [
        {
          "output_type": "stream",
          "name": "stdout",
          "text": [
            "[0.98739547]\n",
            "101\n",
            "\n",
            "1 day input [0.90545547 0.90969792 0.9106499  0.90802947 0.90254978 0.90816547\n",
            " 0.92154957 0.93397506 0.93454559 0.91645797 0.89575324 0.90445706\n",
            " 0.90775416 0.90974104 0.89196854 0.8904195  0.91060346 0.9139072\n",
            " 0.90915062 0.91522736 0.93472139 0.92394113 0.92308534 0.92984539\n",
            " 0.92704253 0.91333667 0.91514444 0.91083897 0.91774165 0.92324788\n",
            " 0.93086371 0.93869184 0.94061239 0.94285468 0.94306033 0.94604564\n",
            " 0.93972011 0.94078819 0.94151129 0.93032636 0.94974741 0.95414244\n",
            " 0.9555588  0.95396664 0.95929374 0.96118112 0.96124414 0.95633166\n",
            " 0.95594689 0.93988264 0.93432998 0.93451573 0.92486989 0.92172537\n",
            " 0.9316797  0.93829712 0.93116556 0.9391529  0.96054094 0.96146638\n",
            " 0.95932028 0.96087927 0.96737396 0.96197388 0.97256839 0.97728517\n",
            " 0.97776945 0.9745022  0.95466653 0.94048966 0.9479695  0.93822083\n",
            " 0.95123011 0.95599996 0.95791719 0.96783503 0.96746684 0.96981528\n",
            " 0.97827695 0.97344408 0.97902991 0.96537049 0.95941647 0.95076573\n",
            " 0.94672562 0.93501992 0.93504314 0.9442246  0.94604895 0.95498496\n",
            " 0.95962213 0.96082288 0.96552307 0.96807053 0.99222495 0.9944009\n",
            " 1.         0.99255333 0.98107318 0.98739547]\n",
            "\n",
            "1 day output [[0.98715156]]\n",
            "\n",
            "2 day input [0.90969792 0.9106499  0.90802947 0.90254978 0.90816547 0.92154957\n",
            " 0.93397506 0.93454559 0.91645797 0.89575324 0.90445706 0.90775416\n",
            " 0.90974104 0.89196854 0.8904195  0.91060346 0.9139072  0.90915062\n",
            " 0.91522736 0.93472139 0.92394113 0.92308534 0.92984539 0.92704253\n",
            " 0.91333667 0.91514444 0.91083897 0.91774165 0.92324788 0.93086371\n",
            " 0.93869184 0.94061239 0.94285468 0.94306033 0.94604564 0.93972011\n",
            " 0.94078819 0.94151129 0.93032636 0.94974741 0.95414244 0.9555588\n",
            " 0.95396664 0.95929374 0.96118112 0.96124414 0.95633166 0.95594689\n",
            " 0.93988264 0.93432998 0.93451573 0.92486989 0.92172537 0.9316797\n",
            " 0.93829712 0.93116556 0.9391529  0.96054094 0.96146638 0.95932028\n",
            " 0.96087927 0.96737396 0.96197388 0.97256839 0.97728517 0.97776945\n",
            " 0.9745022  0.95466653 0.94048966 0.9479695  0.93822083 0.95123011\n",
            " 0.95599996 0.95791719 0.96783503 0.96746684 0.96981528 0.97827695\n",
            " 0.97344408 0.97902991 0.96537049 0.95941647 0.95076573 0.94672562\n",
            " 0.93501992 0.93504314 0.9442246  0.94604895 0.95498496 0.95962213\n",
            " 0.96082288 0.96552307 0.96807053 0.99222495 0.9944009  1.\n",
            " 0.99255333 0.98107318 0.98739547 0.98715156]\n",
            "\n",
            "2 day output [[0.9856478]]\n",
            "\n",
            "3 day input [0.9106499  0.90802947 0.90254978 0.90816547 0.92154957 0.93397506\n",
            " 0.93454559 0.91645797 0.89575324 0.90445706 0.90775416 0.90974104\n",
            " 0.89196854 0.8904195  0.91060346 0.9139072  0.90915062 0.91522736\n",
            " 0.93472139 0.92394113 0.92308534 0.92984539 0.92704253 0.91333667\n",
            " 0.91514444 0.91083897 0.91774165 0.92324788 0.93086371 0.93869184\n",
            " 0.94061239 0.94285468 0.94306033 0.94604564 0.93972011 0.94078819\n",
            " 0.94151129 0.93032636 0.94974741 0.95414244 0.9555588  0.95396664\n",
            " 0.95929374 0.96118112 0.96124414 0.95633166 0.95594689 0.93988264\n",
            " 0.93432998 0.93451573 0.92486989 0.92172537 0.9316797  0.93829712\n",
            " 0.93116556 0.9391529  0.96054094 0.96146638 0.95932028 0.96087927\n",
            " 0.96737396 0.96197388 0.97256839 0.97728517 0.97776945 0.9745022\n",
            " 0.95466653 0.94048966 0.9479695  0.93822083 0.95123011 0.95599996\n",
            " 0.95791719 0.96783503 0.96746684 0.96981528 0.97827695 0.97344408\n",
            " 0.97902991 0.96537049 0.95941647 0.95076573 0.94672562 0.93501992\n",
            " 0.93504314 0.9442246  0.94604895 0.95498496 0.95962213 0.96082288\n",
            " 0.96552307 0.96807053 0.99222495 0.9944009  1.         0.99255333\n",
            " 0.98107318 0.98739547 0.98715156 0.9856478 ]\n",
            "\n",
            "3 day output [[0.9836756]]\n",
            "\n",
            "4 day input [0.90802947 0.90254978 0.90816547 0.92154957 0.93397506 0.93454559\n",
            " 0.91645797 0.89575324 0.90445706 0.90775416 0.90974104 0.89196854\n",
            " 0.8904195  0.91060346 0.9139072  0.90915062 0.91522736 0.93472139\n",
            " 0.92394113 0.92308534 0.92984539 0.92704253 0.91333667 0.91514444\n",
            " 0.91083897 0.91774165 0.92324788 0.93086371 0.93869184 0.94061239\n",
            " 0.94285468 0.94306033 0.94604564 0.93972011 0.94078819 0.94151129\n",
            " 0.93032636 0.94974741 0.95414244 0.9555588  0.95396664 0.95929374\n",
            " 0.96118112 0.96124414 0.95633166 0.95594689 0.93988264 0.93432998\n",
            " 0.93451573 0.92486989 0.92172537 0.9316797  0.93829712 0.93116556\n",
            " 0.9391529  0.96054094 0.96146638 0.95932028 0.96087927 0.96737396\n",
            " 0.96197388 0.97256839 0.97728517 0.97776945 0.9745022  0.95466653\n",
            " 0.94048966 0.9479695  0.93822083 0.95123011 0.95599996 0.95791719\n",
            " 0.96783503 0.96746684 0.96981528 0.97827695 0.97344408 0.97902991\n",
            " 0.96537049 0.95941647 0.95076573 0.94672562 0.93501992 0.93504314\n",
            " 0.9442246  0.94604895 0.95498496 0.95962213 0.96082288 0.96552307\n",
            " 0.96807053 0.99222495 0.9944009  1.         0.99255333 0.98107318\n",
            " 0.98739547 0.98715156 0.9856478  0.9836756 ]\n",
            "\n",
            "4 day output [[0.9816891]]\n",
            "\n",
            "5 day input [0.90254978 0.90816547 0.92154957 0.93397506 0.93454559 0.91645797\n",
            " 0.89575324 0.90445706 0.90775416 0.90974104 0.89196854 0.8904195\n",
            " 0.91060346 0.9139072  0.90915062 0.91522736 0.93472139 0.92394113\n",
            " 0.92308534 0.92984539 0.92704253 0.91333667 0.91514444 0.91083897\n",
            " 0.91774165 0.92324788 0.93086371 0.93869184 0.94061239 0.94285468\n",
            " 0.94306033 0.94604564 0.93972011 0.94078819 0.94151129 0.93032636\n",
            " 0.94974741 0.95414244 0.9555588  0.95396664 0.95929374 0.96118112\n",
            " 0.96124414 0.95633166 0.95594689 0.93988264 0.93432998 0.93451573\n",
            " 0.92486989 0.92172537 0.9316797  0.93829712 0.93116556 0.9391529\n",
            " 0.96054094 0.96146638 0.95932028 0.96087927 0.96737396 0.96197388\n",
            " 0.97256839 0.97728517 0.97776945 0.9745022  0.95466653 0.94048966\n",
            " 0.9479695  0.93822083 0.95123011 0.95599996 0.95791719 0.96783503\n",
            " 0.96746684 0.96981528 0.97827695 0.97344408 0.97902991 0.96537049\n",
            " 0.95941647 0.95076573 0.94672562 0.93501992 0.93504314 0.9442246\n",
            " 0.94604895 0.95498496 0.95962213 0.96082288 0.96552307 0.96807053\n",
            " 0.99222495 0.9944009  1.         0.99255333 0.98107318 0.98739547\n",
            " 0.98715156 0.9856478  0.9836756  0.9816891 ]\n",
            "\n",
            "5 day output [[0.97989005]]\n",
            "\n",
            "6 day input [0.90816547 0.92154957 0.93397506 0.93454559 0.91645797 0.89575324\n",
            " 0.90445706 0.90775416 0.90974104 0.89196854 0.8904195  0.91060346\n",
            " 0.9139072  0.90915062 0.91522736 0.93472139 0.92394113 0.92308534\n",
            " 0.92984539 0.92704253 0.91333667 0.91514444 0.91083897 0.91774165\n",
            " 0.92324788 0.93086371 0.93869184 0.94061239 0.94285468 0.94306033\n",
            " 0.94604564 0.93972011 0.94078819 0.94151129 0.93032636 0.94974741\n",
            " 0.95414244 0.9555588  0.95396664 0.95929374 0.96118112 0.96124414\n",
            " 0.95633166 0.95594689 0.93988264 0.93432998 0.93451573 0.92486989\n",
            " 0.92172537 0.9316797  0.93829712 0.93116556 0.9391529  0.96054094\n",
            " 0.96146638 0.95932028 0.96087927 0.96737396 0.96197388 0.97256839\n",
            " 0.97728517 0.97776945 0.9745022  0.95466653 0.94048966 0.9479695\n",
            " 0.93822083 0.95123011 0.95599996 0.95791719 0.96783503 0.96746684\n",
            " 0.96981528 0.97827695 0.97344408 0.97902991 0.96537049 0.95941647\n",
            " 0.95076573 0.94672562 0.93501992 0.93504314 0.9442246  0.94604895\n",
            " 0.95498496 0.95962213 0.96082288 0.96552307 0.96807053 0.99222495\n",
            " 0.9944009  1.         0.99255333 0.98107318 0.98739547 0.98715156\n",
            " 0.9856478  0.9836756  0.9816891  0.97989005]\n",
            "\n",
            "6 day output [[0.97833306]]\n",
            "[[0.9873954653739929], [0.987151563167572], [0.9856477975845337], [0.9836755990982056], [0.9816890954971313], [0.9798900485038757], [0.978333055973053]]\n"
          ]
        }
      ],
      "source": [
        "from numpy import array\n",
        "\n",
        "lst_output=[]\n",
        "n_steps=100\n",
        "i=0\n",
        "while(i<7):\n",
        "\n",
        "    if(len(temp_input)>100):\n",
        "        X_input=np.array(temp_input[1:])\n",
        "        print(\"\\n{} day input {}\".format(i,X_input))\n",
        "        X_input=X_input.reshape(1,-1)\n",
        "        X_input=X_input.reshape((1, n_steps, 1))\n",
        "        yhat=model.predict(X_input, verbose=0)\n",
        "        print(\"\\n{} day output {}\".format(i,yhat))\n",
        "        temp_input.extend(yhat[0].tolist())\n",
        "        temp_input=temp_input[1:]\n",
        "        lst_output.extend(yhat.tolist())\n",
        "        i=i+1\n",
        "    else:\n",
        "        X_input=X_input.reshape((1, n_steps,1))\n",
        "        yhat=model.predict(X_input, verbose=0)\n",
        "        print(yhat[0])\n",
        "        temp_input.extend(yhat[0].tolist())\n",
        "        print(len(temp_input))\n",
        "        lst_output.extend(yhat.tolist())\n",
        "        i=i+1\n",
        "\n",
        "\n",
        "print(lst_output)"
      ]
    },
    {
      "cell_type": "code",
      "execution_count": null,
      "metadata": {
        "id": "_0JChOVfHNqB"
      },
      "outputs": [],
      "source": [
        "day_new=np.arange(1,101)\n",
        "day_pred=np.arange(101,108)"
      ]
    },
    {
      "cell_type": "code",
      "execution_count": null,
      "metadata": {
        "colab": {
          "base_uri": "https://localhost:8080/"
        },
        "id": "sfEsW898n2OH",
        "outputId": "3b667d38-de5b-4056-ec6d-08c72569b0b5"
      },
      "outputs": [
        {
          "output_type": "execute_result",
          "data": {
            "text/plain": [
              "1341"
            ]
          },
          "metadata": {},
          "execution_count": 71
        }
      ],
      "source": [
        "len(ds1)"
      ]
    },
    {
      "cell_type": "code",
      "execution_count": null,
      "metadata": {
        "id": "c7hArb6Sn2-r"
      },
      "outputs": [],
      "source": [
        "ds3=ds1.tolist()\n",
        "ds3.extend(lst_output)"
      ]
    },
    {
      "cell_type": "code",
      "execution_count": null,
      "metadata": {
        "colab": {
          "base_uri": "https://localhost:8080/",
          "height": 447
        },
        "id": "Jy2lf0Din5MJ",
        "outputId": "4a6b0be1-bb5a-4104-90e7-2ecc82b3fb98"
      },
      "outputs": [
        {
          "output_type": "execute_result",
          "data": {
            "text/plain": [
              "[<matplotlib.lines.Line2D at 0x7ab0bbea82e0>]"
            ]
          },
          "metadata": {},
          "execution_count": 73
        },
        {
          "output_type": "display_data",
          "data": {
            "text/plain": [
              "<Figure size 640x480 with 1 Axes>"
            ],
            "image/png": "[encoded data removed]"
          },
          "metadata": {}
        }
      ],
      "source": [
        "plt.plot(day_new,scaler.inverse_transform(ds1[1241:]))\n",
        "plt.plot(day_pred,scaler.inverse_transform(lst_output))"
      ]
    },
    {
      "cell_type": "code",
      "execution_count": null,
      "metadata": {
        "colab": {
          "base_uri": "https://localhost:8080/",
          "height": 447
        },
        "id": "OJCGJRlvoJBI",
        "outputId": "6d61293f-0011-4283-8cbe-8a25fcdfa30c"
      },
      "outputs": [
        {
          "output_type": "execute_result",
          "data": {
            "text/plain": [
              "[<matplotlib.lines.Line2D at 0x7ab0bbe42410>]"
            ]
          },
          "metadata": {},
          "execution_count": 74
        },
        {
          "output_type": "display_data",
          "data": {
            "text/plain": [
              "<Figure size 640x480 with 1 Axes>"
            ],
            "image/png": "[encoded data removed]"
          },
          "metadata": {}
        }
      ],
      "source": [
        "plt.plot(ds3[1300:])"
      ]
    },
    {
      "cell_type": "code",
      "execution_count": null,
      "metadata": {
        "colab": {
          "base_uri": "https://localhost:8080/",
          "height": 447
        },
        "id": "2eI_w-3PriBp",
        "outputId": "eeacdacb-6560-49bf-cf09-39935567cfc7"
      },
      "outputs": [
        {
          "output_type": "execute_result",
          "data": {
            "text/plain": [
              "[<matplotlib.lines.Line2D at 0x7ab0bbd5f250>]"
            ]
          },
          "metadata": {},
          "execution_count": 75
        },
        {
          "output_type": "display_data",
          "data": {
            "text/plain": [
              "<Figure size 640x480 with 1 Axes>"
            ],
            "image/png": "[encoded data removed]"
          },
          "metadata": {}
        }
      ],
      "source": [
        "ds3=scaler.inverse_transform(ds3)\n",
        "plt.plot(ds3)"
      ]
    },
    {
      "cell_type": "code",
      "execution_count": null,
      "metadata": {
        "colab": {
          "base_uri": "https://localhost:8080/"
        },
        "id": "Xs1gSSZ8rppp",
        "outputId": "f436b2f6-485a-4b45-e3b9-ec5f3b9a3bdd"
      },
      "outputs": [
        {
          "output_type": "execute_result",
          "data": {
            "text/plain": [
              "1348"
            ]
          },
          "metadata": {},
          "execution_count": 76
        }
      ],
      "source": [
        "len(ds3)"
      ]
    },
    {
      "cell_type": "code",
      "execution_count": null,
      "metadata": {
        "colab": {
          "base_uri": "https://localhost:8080/"
        },
        "id": "U20LQmSXrukx",
        "outputId": "3f7ba9af-74c2-4811-fe55-491e410c8690"
      },
      "outputs": [
        {
          "output_type": "execute_result",
          "data": {
            "text/plain": [
              "array([[22713.92924082],\n",
              "       [22710.17390293],\n",
              "       [22687.02057463],\n",
              "       [22656.65483176],\n",
              "       [22626.06883446],\n",
              "       [22598.36908781],\n",
              "       [22574.39622951]])"
            ]
          },
          "metadata": {},
          "execution_count": 77
        }
      ],
      "source": [
        "ds3[1341:]"
      ]
    },
    {
      "cell_type": "markdown",
      "source": [
        "LOW PREDICTION"
      ],
      "metadata": {
        "id": "2-ujXkTZFqDn"
      }
    },
    {
      "cell_type": "code",
      "execution_count": null,
      "metadata": {
        "id": "3A-_OsoOsGzv"
      },
      "outputs": [],
      "source": [
        "ds1=ds0[\"Low\"]\n",
        "ds1=np.array(ds1).reshape(-1,1)"
      ]
    },
    {
      "cell_type": "code",
      "source": [
        "training_size=int(len(ds1)*0.7)\n",
        "test_size=len(ds1)-training_size\n",
        "print(training_size,test_size)\n",
        "train_data,test_data=ds1[0:training_size,:],ds1[training_size:len(ds1),:1]"
      ],
      "metadata": {
        "colab": {
          "base_uri": "https://localhost:8080/"
        },
        "id": "SqUljemeCrbQ",
        "outputId": "7230386c-1abd-42bf-fba0-85c4e7eea61a"
      },
      "execution_count": null,
      "outputs": [
        {
          "output_type": "stream",
          "name": "stdout",
          "text": [
            "938 403\n"
          ]
        }
      ]
    },
    {
      "cell_type": "code",
      "source": [
        "time_step = 100\n",
        "X_train, Y_train = create_dataset(train_data, time_step)\n",
        "X_test, Y_test = create_dataset(test_data, time_step)"
      ],
      "metadata": {
        "id": "YrtBNrKlC1Nr"
      },
      "execution_count": null,
      "outputs": []
    },
    {
      "cell_type": "code",
      "source": [
        "print(X_train.shape), print(Y_train.shape)"
      ],
      "metadata": {
        "colab": {
          "base_uri": "https://localhost:8080/"
        },
        "id": "GbFLX0wMC8rL",
        "outputId": "2180076b-668f-4bc0-9f62-5e44610ccadb"
      },
      "execution_count": null,
      "outputs": [
        {
          "output_type": "stream",
          "name": "stdout",
          "text": [
            "(837, 100)\n",
            "(837,)\n"
          ]
        },
        {
          "output_type": "execute_result",
          "data": {
            "text/plain": [
              "(None, None)"
            ]
          },
          "metadata": {},
          "execution_count": 315
        }
      ]
    },
    {
      "cell_type": "code",
      "source": [
        "print(X_test.shape), print(Y_test.shape)"
      ],
      "metadata": {
        "colab": {
          "base_uri": "https://localhost:8080/"
        },
        "id": "gHQpaF1IDDNF",
        "outputId": "7f67da2b-ef92-4598-80b6-4fdc72c5ab3d"
      },
      "execution_count": null,
      "outputs": [
        {
          "output_type": "stream",
          "name": "stdout",
          "text": [
            "(302, 100)\n",
            "(302,)\n"
          ]
        },
        {
          "output_type": "execute_result",
          "data": {
            "text/plain": [
              "(None, None)"
            ]
          },
          "metadata": {},
          "execution_count": 316
        }
      ]
    },
    {
      "cell_type": "code",
      "source": [
        "X_train =X_train.reshape(X_train.shape[0],X_train.shape[1] , 1)\n",
        "X_test = X_test.reshape(X_test.shape[0],X_test.shape[1] , 1)"
      ],
      "metadata": {
        "id": "iYlTFHbbDMVT"
      },
      "execution_count": null,
      "outputs": []
    },
    {
      "cell_type": "code",
      "source": [
        "from keras.models import Sequential\n",
        "from keras.layers import LSTM, Dense, Dropout\n",
        "\n",
        "model=Sequential()\n",
        "model.add(LSTM(32,return_sequences=True,input_shape=(100,1)))\n",
        "model.add(Dropout(0.2))\n",
        "model.add(LSTM(32,return_sequences=True))\n",
        "model.add(Dropout(0.2))\n",
        "model.add(LSTM(32))\n",
        "model.add(Dropout(0.2))\n",
        "model.add(Dense(16))\n",
        "model.add(Dense(1))\n",
        "model.compile(loss='mean_squared_error',optimizer='adam')"
      ],
      "metadata": {
        "id": "SEuqfYOlDUin"
      },
      "execution_count": null,
      "outputs": []
    },
    {
      "cell_type": "code",
      "source": [
        "model.summary()"
      ],
      "metadata": {
        "colab": {
          "base_uri": "https://localhost:8080/"
        },
        "id": "zNLddfV5DaYM",
        "outputId": "05eaa53b-54c7-4216-8c5a-c6e1028bd785"
      },
      "execution_count": null,
      "outputs": [
        {
          "output_type": "stream",
          "name": "stdout",
          "text": [
            "Model: \"sequential_14\"\n",
            "_________________________________________________________________\n",
            " Layer (type)                Output Shape              Param #   \n",
            "=================================================================\n",
            " lstm_42 (LSTM)              (None, 100, 32)           4352      \n",
            "                                                                 \n",
            " dropout_42 (Dropout)        (None, 100, 32)           0         \n",
            "                                                                 \n",
            " lstm_43 (LSTM)              (None, 100, 32)           8320      \n",
            "                                                                 \n",
            " dropout_43 (Dropout)        (None, 100, 32)           0         \n",
            "                                                                 \n",
            " lstm_44 (LSTM)              (None, 32)                8320      \n",
            "                                                                 \n",
            " dropout_44 (Dropout)        (None, 32)                0         \n",
            "                                                                 \n",
            " dense_28 (Dense)            (None, 16)                528       \n",
            "                                                                 \n",
            " dense_29 (Dense)            (None, 1)                 17        \n",
            "                                                                 \n",
            "=================================================================\n",
            "Total params: 21537 (84.13 KB)\n",
            "Trainable params: 21537 (84.13 KB)\n",
            "Non-trainable params: 0 (0.00 Byte)\n",
            "_________________________________________________________________\n"
          ]
        }
      ]
    },
    {
      "cell_type": "code",
      "source": [
        "model.fit(X_train,Y_train,validation_data=(X_test,Y_test),epochs=100,batch_size=24,verbose=1)"
      ],
      "metadata": {
        "colab": {
          "base_uri": "https://localhost:8080/"
        },
        "id": "WZCwmM6ADfXy",
        "outputId": "c80fc07e-040c-49a9-eb8c-8738c84bac4f"
      },
      "execution_count": null,
      "outputs": [
        {
          "output_type": "stream",
          "name": "stdout",
          "text": [
            "Epoch 1/100\n",
            "35/35 [==============================] - 6s 44ms/step - loss: 0.0241 - val_loss: 0.0333\n",
            "Epoch 2/100\n",
            "35/35 [==============================] - 1s 16ms/step - loss: 0.0056 - val_loss: 0.0034\n",
            "Epoch 3/100\n",
            "35/35 [==============================] - 1s 16ms/step - loss: 0.0042 - val_loss: 0.0024\n",
            "Epoch 4/100\n",
            "35/35 [==============================] - 1s 16ms/step - loss: 0.0038 - val_loss: 0.0017\n",
            "Epoch 5/100\n",
            "35/35 [==============================] - 1s 15ms/step - loss: 0.0034 - val_loss: 8.7326e-04\n",
            "Epoch 6/100\n",
            "35/35 [==============================] - 1s 16ms/step - loss: 0.0032 - val_loss: 0.0063\n",
            "Epoch 7/100\n",
            "35/35 [==============================] - 1s 18ms/step - loss: 0.0031 - val_loss: 0.0040\n",
            "Epoch 8/100\n",
            "35/35 [==============================] - 1s 21ms/step - loss: 0.0027 - val_loss: 0.0016\n",
            "Epoch 9/100\n",
            "35/35 [==============================] - 1s 22ms/step - loss: 0.0031 - val_loss: 0.0017\n",
            "Epoch 10/100\n",
            "35/35 [==============================] - 1s 21ms/step - loss: 0.0024 - val_loss: 0.0061\n",
            "Epoch 11/100\n",
            "35/35 [==============================] - 1s 16ms/step - loss: 0.0027 - val_loss: 0.0032\n",
            "Epoch 12/100\n",
            "35/35 [==============================] - 1s 16ms/step - loss: 0.0024 - val_loss: 0.0052\n",
            "Epoch 13/100\n",
            "35/35 [==============================] - 1s 15ms/step - loss: 0.0023 - val_loss: 0.0012\n",
            "Epoch 14/100\n",
            "35/35 [==============================] - 1s 16ms/step - loss: 0.0024 - val_loss: 0.0011\n",
            "Epoch 15/100\n",
            "35/35 [==============================] - 1s 16ms/step - loss: 0.0022 - val_loss: 0.0035\n",
            "Epoch 16/100\n",
            "35/35 [==============================] - 1s 16ms/step - loss: 0.0020 - val_loss: 0.0010\n",
            "Epoch 17/100\n",
            "35/35 [==============================] - 1s 15ms/step - loss: 0.0021 - val_loss: 0.0010\n",
            "Epoch 18/100\n",
            "35/35 [==============================] - 1s 16ms/step - loss: 0.0020 - val_loss: 0.0019\n",
            "Epoch 19/100\n",
            "35/35 [==============================] - 1s 16ms/step - loss: 0.0018 - val_loss: 0.0012\n",
            "Epoch 20/100\n",
            "35/35 [==============================] - 1s 15ms/step - loss: 0.0018 - val_loss: 0.0021\n",
            "Epoch 21/100\n",
            "35/35 [==============================] - 1s 16ms/step - loss: 0.0020 - val_loss: 0.0024\n",
            "Epoch 22/100\n",
            "35/35 [==============================] - 1s 15ms/step - loss: 0.0017 - val_loss: 0.0012\n",
            "Epoch 23/100\n",
            "35/35 [==============================] - 1s 16ms/step - loss: 0.0015 - val_loss: 0.0018\n",
            "Epoch 24/100\n",
            "35/35 [==============================] - 1s 16ms/step - loss: 0.0015 - val_loss: 0.0022\n",
            "Epoch 25/100\n",
            "35/35 [==============================] - 1s 16ms/step - loss: 0.0015 - val_loss: 7.5539e-04\n",
            "Epoch 26/100\n",
            "35/35 [==============================] - 1s 15ms/step - loss: 0.0016 - val_loss: 0.0013\n",
            "Epoch 27/100\n",
            "35/35 [==============================] - 1s 16ms/step - loss: 0.0014 - val_loss: 5.3547e-04\n",
            "Epoch 28/100\n",
            "35/35 [==============================] - 1s 17ms/step - loss: 0.0013 - val_loss: 9.7168e-04\n",
            "Epoch 29/100\n",
            "35/35 [==============================] - 1s 21ms/step - loss: 0.0013 - val_loss: 0.0044\n",
            "Epoch 30/100\n",
            "35/35 [==============================] - 1s 23ms/step - loss: 0.0014 - val_loss: 0.0011\n",
            "Epoch 31/100\n",
            "35/35 [==============================] - 1s 22ms/step - loss: 0.0013 - val_loss: 0.0024\n",
            "Epoch 32/100\n",
            "35/35 [==============================] - 1s 19ms/step - loss: 0.0013 - val_loss: 7.1584e-04\n",
            "Epoch 33/100\n",
            "35/35 [==============================] - 1s 16ms/step - loss: 0.0013 - val_loss: 0.0014\n",
            "Epoch 34/100\n",
            "35/35 [==============================] - 1s 16ms/step - loss: 0.0013 - val_loss: 6.2442e-04\n",
            "Epoch 35/100\n",
            "35/35 [==============================] - 1s 16ms/step - loss: 0.0010 - val_loss: 0.0013\n",
            "Epoch 36/100\n",
            "35/35 [==============================] - 1s 16ms/step - loss: 0.0012 - val_loss: 0.0015\n",
            "Epoch 37/100\n",
            "35/35 [==============================] - 1s 17ms/step - loss: 0.0011 - val_loss: 5.1112e-04\n",
            "Epoch 38/100\n",
            "35/35 [==============================] - 1s 16ms/step - loss: 0.0012 - val_loss: 0.0021\n",
            "Epoch 39/100\n",
            "35/35 [==============================] - 1s 15ms/step - loss: 0.0013 - val_loss: 0.0014\n",
            "Epoch 40/100\n",
            "35/35 [==============================] - 1s 16ms/step - loss: 9.8850e-04 - val_loss: 0.0023\n",
            "Epoch 41/100\n",
            "35/35 [==============================] - 1s 16ms/step - loss: 0.0010 - val_loss: 7.4198e-04\n",
            "Epoch 42/100\n",
            "35/35 [==============================] - 1s 16ms/step - loss: 0.0011 - val_loss: 9.2435e-04\n",
            "Epoch 43/100\n",
            "35/35 [==============================] - 1s 16ms/step - loss: 0.0011 - val_loss: 0.0012\n",
            "Epoch 44/100\n",
            "35/35 [==============================] - 1s 16ms/step - loss: 0.0011 - val_loss: 0.0028\n",
            "Epoch 45/100\n",
            "35/35 [==============================] - 1s 16ms/step - loss: 0.0011 - val_loss: 7.3329e-04\n",
            "Epoch 46/100\n",
            "35/35 [==============================] - 1s 16ms/step - loss: 9.6532e-04 - val_loss: 0.0014\n",
            "Epoch 47/100\n",
            "35/35 [==============================] - 1s 16ms/step - loss: 0.0010 - val_loss: 3.5261e-04\n",
            "Epoch 48/100\n",
            "35/35 [==============================] - 1s 16ms/step - loss: 0.0011 - val_loss: 8.2645e-04\n",
            "Epoch 49/100\n",
            "35/35 [==============================] - 1s 16ms/step - loss: 0.0010 - val_loss: 5.8120e-04\n",
            "Epoch 50/100\n",
            "35/35 [==============================] - 1s 21ms/step - loss: 9.2876e-04 - val_loss: 8.3331e-04\n",
            "Epoch 51/100\n",
            "35/35 [==============================] - 1s 23ms/step - loss: 9.6090e-04 - val_loss: 0.0014\n",
            "Epoch 52/100\n",
            "35/35 [==============================] - 1s 22ms/step - loss: 9.0255e-04 - val_loss: 3.4671e-04\n",
            "Epoch 53/100\n",
            "35/35 [==============================] - 1s 20ms/step - loss: 9.5702e-04 - val_loss: 3.3291e-04\n",
            "Epoch 54/100\n",
            "35/35 [==============================] - 1s 16ms/step - loss: 9.7544e-04 - val_loss: 0.0013\n",
            "Epoch 55/100\n",
            "35/35 [==============================] - 1s 15ms/step - loss: 0.0010 - val_loss: 0.0016\n",
            "Epoch 56/100\n",
            "35/35 [==============================] - 1s 16ms/step - loss: 8.7617e-04 - val_loss: 4.5960e-04\n",
            "Epoch 57/100\n",
            "35/35 [==============================] - 1s 16ms/step - loss: 9.3043e-04 - val_loss: 4.7487e-04\n",
            "Epoch 58/100\n",
            "35/35 [==============================] - 1s 16ms/step - loss: 8.6325e-04 - val_loss: 5.2708e-04\n",
            "Epoch 59/100\n",
            "35/35 [==============================] - 1s 16ms/step - loss: 8.6406e-04 - val_loss: 9.7243e-04\n",
            "Epoch 60/100\n",
            "35/35 [==============================] - 1s 16ms/step - loss: 9.1297e-04 - val_loss: 9.2719e-04\n",
            "Epoch 61/100\n",
            "35/35 [==============================] - 1s 16ms/step - loss: 8.4786e-04 - val_loss: 0.0010\n",
            "Epoch 62/100\n",
            "35/35 [==============================] - 1s 16ms/step - loss: 7.8528e-04 - val_loss: 0.0013\n",
            "Epoch 63/100\n",
            "35/35 [==============================] - 1s 16ms/step - loss: 8.7864e-04 - val_loss: 0.0010\n",
            "Epoch 64/100\n",
            "35/35 [==============================] - 1s 15ms/step - loss: 8.9831e-04 - val_loss: 0.0016\n",
            "Epoch 65/100\n",
            "35/35 [==============================] - 1s 16ms/step - loss: 9.4862e-04 - val_loss: 0.0027\n",
            "Epoch 66/100\n",
            "35/35 [==============================] - 1s 16ms/step - loss: 8.1457e-04 - val_loss: 0.0010\n",
            "Epoch 67/100\n",
            "35/35 [==============================] - 1s 18ms/step - loss: 8.0293e-04 - val_loss: 7.4390e-04\n",
            "Epoch 68/100\n",
            "35/35 [==============================] - 1s 16ms/step - loss: 9.2871e-04 - val_loss: 3.3574e-04\n",
            "Epoch 69/100\n",
            "35/35 [==============================] - 1s 16ms/step - loss: 9.9180e-04 - val_loss: 8.9955e-04\n",
            "Epoch 70/100\n",
            "35/35 [==============================] - 1s 16ms/step - loss: 8.5074e-04 - val_loss: 0.0013\n",
            "Epoch 71/100\n",
            "35/35 [==============================] - 1s 20ms/step - loss: 7.8207e-04 - val_loss: 0.0010\n",
            "Epoch 72/100\n",
            "35/35 [==============================] - 1s 22ms/step - loss: 8.9053e-04 - val_loss: 0.0014\n",
            "Epoch 73/100\n",
            "35/35 [==============================] - 1s 23ms/step - loss: 8.6618e-04 - val_loss: 4.6828e-04\n",
            "Epoch 74/100\n",
            "35/35 [==============================] - 1s 16ms/step - loss: 8.5957e-04 - val_loss: 4.6116e-04\n",
            "Epoch 75/100\n",
            "35/35 [==============================] - 1s 16ms/step - loss: 7.0788e-04 - val_loss: 3.0031e-04\n",
            "Epoch 76/100\n",
            "35/35 [==============================] - 1s 16ms/step - loss: 8.4036e-04 - val_loss: 0.0046\n",
            "Epoch 77/100\n",
            "35/35 [==============================] - 1s 16ms/step - loss: 7.4255e-04 - val_loss: 8.3581e-04\n",
            "Epoch 78/100\n",
            "35/35 [==============================] - 1s 16ms/step - loss: 7.7272e-04 - val_loss: 0.0014\n",
            "Epoch 79/100\n",
            "35/35 [==============================] - 1s 16ms/step - loss: 7.8660e-04 - val_loss: 0.0028\n",
            "Epoch 80/100\n",
            "35/35 [==============================] - 1s 16ms/step - loss: 8.8417e-04 - val_loss: 6.6961e-04\n",
            "Epoch 81/100\n",
            "35/35 [==============================] - 1s 16ms/step - loss: 7.8804e-04 - val_loss: 4.3989e-04\n",
            "Epoch 82/100\n",
            "35/35 [==============================] - 1s 16ms/step - loss: 8.2314e-04 - val_loss: 6.2140e-04\n",
            "Epoch 83/100\n",
            "35/35 [==============================] - 1s 16ms/step - loss: 8.4330e-04 - val_loss: 2.9229e-04\n",
            "Epoch 84/100\n",
            "35/35 [==============================] - 1s 16ms/step - loss: 8.2909e-04 - val_loss: 7.0725e-04\n",
            "Epoch 85/100\n",
            "35/35 [==============================] - 1s 17ms/step - loss: 8.2383e-04 - val_loss: 0.0026\n",
            "Epoch 86/100\n",
            "35/35 [==============================] - 1s 16ms/step - loss: 7.2967e-04 - val_loss: 0.0017\n",
            "Epoch 87/100\n",
            "35/35 [==============================] - 1s 17ms/step - loss: 7.0412e-04 - val_loss: 5.5651e-04\n",
            "Epoch 88/100\n",
            "35/35 [==============================] - 1s 15ms/step - loss: 7.5076e-04 - val_loss: 3.0779e-04\n",
            "Epoch 89/100\n",
            "35/35 [==============================] - 1s 16ms/step - loss: 8.0925e-04 - val_loss: 8.7327e-04\n",
            "Epoch 90/100\n",
            "35/35 [==============================] - 1s 15ms/step - loss: 8.0645e-04 - val_loss: 4.3386e-04\n",
            "Epoch 91/100\n",
            "35/35 [==============================] - 1s 18ms/step - loss: 8.1853e-04 - val_loss: 0.0019\n",
            "Epoch 92/100\n",
            "35/35 [==============================] - 1s 22ms/step - loss: 8.9404e-04 - val_loss: 8.3105e-04\n",
            "Epoch 93/100\n",
            "35/35 [==============================] - 1s 22ms/step - loss: 8.1120e-04 - val_loss: 0.0011\n",
            "Epoch 94/100\n",
            "35/35 [==============================] - 1s 22ms/step - loss: 7.6327e-04 - val_loss: 0.0020\n",
            "Epoch 95/100\n",
            "35/35 [==============================] - 1s 16ms/step - loss: 6.9386e-04 - val_loss: 7.6905e-04\n",
            "Epoch 96/100\n",
            "35/35 [==============================] - 1s 16ms/step - loss: 8.2591e-04 - val_loss: 5.2236e-04\n",
            "Epoch 97/100\n",
            "35/35 [==============================] - 1s 16ms/step - loss: 7.5433e-04 - val_loss: 3.8887e-04\n",
            "Epoch 98/100\n",
            "35/35 [==============================] - 1s 16ms/step - loss: 8.3108e-04 - val_loss: 0.0022\n",
            "Epoch 99/100\n",
            "35/35 [==============================] - 1s 16ms/step - loss: 8.1395e-04 - val_loss: 3.6401e-04\n",
            "Epoch 100/100\n",
            "35/35 [==============================] - 1s 16ms/step - loss: 8.8719e-04 - val_loss: 2.4554e-04\n"
          ]
        },
        {
          "output_type": "execute_result",
          "data": {
            "text/plain": [
              "<keras.src.callbacks.History at 0x7ab0726e7220>"
            ]
          },
          "metadata": {},
          "execution_count": 320
        }
      ]
    },
    {
      "cell_type": "code",
      "source": [
        "train_predict=model.predict(X_train)\n",
        "test_predict=model.predict(X_test)"
      ],
      "metadata": {
        "colab": {
          "base_uri": "https://localhost:8080/"
        },
        "id": "N6aMK9X9D0aG",
        "outputId": "7fae8cdd-2b43-4405-c3e1-615b8308a81e"
      },
      "execution_count": null,
      "outputs": [
        {
          "output_type": "stream",
          "name": "stdout",
          "text": [
            "27/27 [==============================] - 1s 6ms/step\n",
            "10/10 [==============================] - 0s 6ms/step\n"
          ]
        }
      ]
    },
    {
      "cell_type": "code",
      "source": [
        "train_predict=scaler.inverse_transform(train_predict)\n",
        "test_predict=scaler.inverse_transform(test_predict)"
      ],
      "metadata": {
        "id": "LS9tGxRHEL-1"
      },
      "execution_count": null,
      "outputs": []
    },
    {
      "cell_type": "code",
      "source": [
        "#math.sqrt(mean_squared_error(Y_train,train_predict))"
      ],
      "metadata": {
        "id": "eZZyWNPxESBK"
      },
      "execution_count": null,
      "outputs": []
    },
    {
      "cell_type": "code",
      "source": [
        "#math.sqrt(mean_squared_error(Y_test,test_predict))"
      ],
      "metadata": {
        "id": "emWwGmn8EYDG"
      },
      "execution_count": null,
      "outputs": []
    },
    {
      "cell_type": "code",
      "source": [
        "# shift train predictions for plotting\n",
        "look_back=100\n",
        "trainPredictPlot = np.empty_like(ds1)\n",
        "trainPredictPlot[:, :] = np.nan\n",
        "trainPredictPlot[look_back:len(train_predict)+look_back, :] = train_predict\n",
        "\n",
        "# shift test predictions for plotting\n",
        "testPredictPlot = np.empty_like(ds1)\n",
        "testPredictPlot[:, :] = np.nan\n",
        "testPredictPlot[len(train_predict)+(look_back*2)+1:len(ds1)-1, :] = test_predict\n",
        "\n",
        "# plot baseline and predictions\n",
        "plt.plot(scaler.inverse_transform(ds1))\n",
        "plt.plot(trainPredictPlot)\n",
        "plt.plot(testPredictPlot)\n",
        "plt.show()"
      ],
      "metadata": {
        "colab": {
          "base_uri": "https://localhost:8080/",
          "height": 430
        },
        "id": "L_yGmZ9bEcAb",
        "outputId": "bedf093b-dc6a-4f26-94f2-0ffc7d344e8d"
      },
      "execution_count": null,
      "outputs": [
        {
          "output_type": "display_data",
          "data": {
            "text/plain": [
              "<Figure size 640x480 with 1 Axes>"
            ],
            "image/png": "[encoded data removed]"
          },
          "metadata": {}
        }
      ]
    },
    {
      "cell_type": "code",
      "source": [
        "X_input=test_data[303:].reshape(1,-1)\n",
        "X_input.shape"
      ],
      "metadata": {
        "colab": {
          "base_uri": "https://localhost:8080/"
        },
        "id": "sARlr384EhPm",
        "outputId": "5213f45a-3be4-4263-8c31-15e89e71e4de"
      },
      "execution_count": null,
      "outputs": [
        {
          "output_type": "execute_result",
          "data": {
            "text/plain": [
              "(1, 100)"
            ]
          },
          "metadata": {},
          "execution_count": 326
        }
      ]
    },
    {
      "cell_type": "code",
      "source": [
        "temp_input=list(X_input)\n",
        "temp_input=temp_input[0].tolist()"
      ],
      "metadata": {
        "id": "xLqCVkEdErCV"
      },
      "execution_count": null,
      "outputs": []
    },
    {
      "cell_type": "code",
      "source": [
        "from numpy import array\n",
        "\n",
        "lst_output=[]\n",
        "n_steps=100\n",
        "i=0\n",
        "while(i<7):\n",
        "\n",
        "    if(len(temp_input)>100):\n",
        "        X_input=np.array(temp_input[1:])\n",
        "        print(\"\\n{} day input {}\".format(i,X_input))\n",
        "        X_input=X_input.reshape(1,-1)\n",
        "        X_input=X_input.reshape((1, n_steps, 1))\n",
        "        yhat=model.predict(X_input, verbose=0)\n",
        "        print(\"\\n{} day output {}\".format(i,yhat))\n",
        "        temp_input.extend(yhat[0].tolist())\n",
        "        temp_input=temp_input[1:]\n",
        "        lst_output.extend(yhat.tolist())\n",
        "        i=i+1\n",
        "    else:\n",
        "        X_input=X_input.reshape((1, n_steps,1))\n",
        "        yhat=model.predict(X_input, verbose=0)\n",
        "        print(yhat[0])\n",
        "        temp_input.extend(yhat[0].tolist())\n",
        "        print(len(temp_input))\n",
        "        lst_output.extend(yhat.tolist())\n",
        "        i=i+1\n",
        "\n",
        "\n",
        "print(lst_output)"
      ],
      "metadata": {
        "colab": {
          "base_uri": "https://localhost:8080/"
        },
        "id": "RGgd9ehUEvJo",
        "outputId": "e566d4b0-5897-4e5b-f0c3-cef10620ed83"
      },
      "execution_count": null,
      "outputs": [
        {
          "output_type": "stream",
          "name": "stdout",
          "text": [
            "[0.9740559]\n",
            "101\n",
            "\n",
            "1 day input [0.91274542 0.91694432 0.90809189 0.90971234 0.90521793 0.91464191\n",
            " 0.92252661 0.93865973 0.93906566 0.91182965 0.89462489 0.91342413\n",
            " 0.91126785 0.88858796 0.88498984 0.89212439 0.90398067 0.90866993\n",
            " 0.90523092 0.91886354 0.92839792 0.923293   0.92398145 0.93194409\n",
            " 0.91928895 0.91698978 0.91340789 0.91136852 0.91051445 0.92769973\n",
            " 0.93901045 0.94239425 0.94400496 0.94089395 0.93292481 0.95311394\n",
            " 0.94590794 0.9465899  0.9355617  0.93197657 0.94412836 0.9648663\n",
            " 0.96429801 0.95850788 0.9555982  0.96895479 0.96098241 0.95765381\n",
            " 0.93489923 0.93566887 0.93659113 0.93560717 0.92758932 0.92220512\n",
            " 0.93721463 0.93344764 0.93762056 0.9444596  0.95165261 0.96880866\n",
            " 0.96623671 0.96353162 0.96075833 0.96879891 0.9767713  0.98079159\n",
            " 0.98478265 0.97374471 0.95788438 0.94618722 0.93853958 0.92658587\n",
            " 0.95389656 0.96372322 0.96596718 0.96085251 0.96606784 0.96972767\n",
            " 0.97794361 0.97790789 0.96363229 0.96762011 0.95609831 0.95305549\n",
            " 0.9366366  0.93779917 0.92940462 0.94630413 0.95088297 0.94457001\n",
            " 0.96347641 0.97155596 0.96730186 0.97240678 0.97853139 1.\n",
            " 0.99760991 0.99678507 0.98554579 0.97405589]\n",
            "\n",
            "1 day output [[0.9712025]]\n",
            "\n",
            "2 day input [0.91694432 0.90809189 0.90971234 0.90521793 0.91464191 0.92252661\n",
            " 0.93865973 0.93906566 0.91182965 0.89462489 0.91342413 0.91126785\n",
            " 0.88858796 0.88498984 0.89212439 0.90398067 0.90866993 0.90523092\n",
            " 0.91886354 0.92839792 0.923293   0.92398145 0.93194409 0.91928895\n",
            " 0.91698978 0.91340789 0.91136852 0.91051445 0.92769973 0.93901045\n",
            " 0.94239425 0.94400496 0.94089395 0.93292481 0.95311394 0.94590794\n",
            " 0.9465899  0.9355617  0.93197657 0.94412836 0.9648663  0.96429801\n",
            " 0.95850788 0.9555982  0.96895479 0.96098241 0.95765381 0.93489923\n",
            " 0.93566887 0.93659113 0.93560717 0.92758932 0.92220512 0.93721463\n",
            " 0.93344764 0.93762056 0.9444596  0.95165261 0.96880866 0.96623671\n",
            " 0.96353162 0.96075833 0.96879891 0.9767713  0.98079159 0.98478265\n",
            " 0.97374471 0.95788438 0.94618722 0.93853958 0.92658587 0.95389656\n",
            " 0.96372322 0.96596718 0.96085251 0.96606784 0.96972767 0.97794361\n",
            " 0.97790789 0.96363229 0.96762011 0.95609831 0.95305549 0.9366366\n",
            " 0.93779917 0.92940462 0.94630413 0.95088297 0.94457001 0.96347641\n",
            " 0.97155596 0.96730186 0.97240678 0.97853139 1.         0.99760991\n",
            " 0.99678507 0.98554579 0.97405589 0.97120249]\n",
            "\n",
            "2 day output [[0.9660777]]\n",
            "\n",
            "3 day input [0.90809189 0.90971234 0.90521793 0.91464191 0.92252661 0.93865973\n",
            " 0.93906566 0.91182965 0.89462489 0.91342413 0.91126785 0.88858796\n",
            " 0.88498984 0.89212439 0.90398067 0.90866993 0.90523092 0.91886354\n",
            " 0.92839792 0.923293   0.92398145 0.93194409 0.91928895 0.91698978\n",
            " 0.91340789 0.91136852 0.91051445 0.92769973 0.93901045 0.94239425\n",
            " 0.94400496 0.94089395 0.93292481 0.95311394 0.94590794 0.9465899\n",
            " 0.9355617  0.93197657 0.94412836 0.9648663  0.96429801 0.95850788\n",
            " 0.9555982  0.96895479 0.96098241 0.95765381 0.93489923 0.93566887\n",
            " 0.93659113 0.93560717 0.92758932 0.92220512 0.93721463 0.93344764\n",
            " 0.93762056 0.9444596  0.95165261 0.96880866 0.96623671 0.96353162\n",
            " 0.96075833 0.96879891 0.9767713  0.98079159 0.98478265 0.97374471\n",
            " 0.95788438 0.94618722 0.93853958 0.92658587 0.95389656 0.96372322\n",
            " 0.96596718 0.96085251 0.96606784 0.96972767 0.97794361 0.97790789\n",
            " 0.96363229 0.96762011 0.95609831 0.95305549 0.9366366  0.93779917\n",
            " 0.92940462 0.94630413 0.95088297 0.94457001 0.96347641 0.97155596\n",
            " 0.96730186 0.97240678 0.97853139 1.         0.99760991 0.99678507\n",
            " 0.98554579 0.97405589 0.97120249 0.96607769]\n",
            "\n",
            "3 day output [[0.9603311]]\n",
            "\n",
            "4 day input [0.90971234 0.90521793 0.91464191 0.92252661 0.93865973 0.93906566\n",
            " 0.91182965 0.89462489 0.91342413 0.91126785 0.88858796 0.88498984\n",
            " 0.89212439 0.90398067 0.90866993 0.90523092 0.91886354 0.92839792\n",
            " 0.923293   0.92398145 0.93194409 0.91928895 0.91698978 0.91340789\n",
            " 0.91136852 0.91051445 0.92769973 0.93901045 0.94239425 0.94400496\n",
            " 0.94089395 0.93292481 0.95311394 0.94590794 0.9465899  0.9355617\n",
            " 0.93197657 0.94412836 0.9648663  0.96429801 0.95850788 0.9555982\n",
            " 0.96895479 0.96098241 0.95765381 0.93489923 0.93566887 0.93659113\n",
            " 0.93560717 0.92758932 0.92220512 0.93721463 0.93344764 0.93762056\n",
            " 0.9444596  0.95165261 0.96880866 0.96623671 0.96353162 0.96075833\n",
            " 0.96879891 0.9767713  0.98079159 0.98478265 0.97374471 0.95788438\n",
            " 0.94618722 0.93853958 0.92658587 0.95389656 0.96372322 0.96596718\n",
            " 0.96085251 0.96606784 0.96972767 0.97794361 0.97790789 0.96363229\n",
            " 0.96762011 0.95609831 0.95305549 0.9366366  0.93779917 0.92940462\n",
            " 0.94630413 0.95088297 0.94457001 0.96347641 0.97155596 0.96730186\n",
            " 0.97240678 0.97853139 1.         0.99760991 0.99678507 0.98554579\n",
            " 0.97405589 0.97120249 0.96607769 0.96033108]\n",
            "\n",
            "4 day output [[0.95489156]]\n",
            "\n",
            "5 day input [0.90521793 0.91464191 0.92252661 0.93865973 0.93906566 0.91182965\n",
            " 0.89462489 0.91342413 0.91126785 0.88858796 0.88498984 0.89212439\n",
            " 0.90398067 0.90866993 0.90523092 0.91886354 0.92839792 0.923293\n",
            " 0.92398145 0.93194409 0.91928895 0.91698978 0.91340789 0.91136852\n",
            " 0.91051445 0.92769973 0.93901045 0.94239425 0.94400496 0.94089395\n",
            " 0.93292481 0.95311394 0.94590794 0.9465899  0.9355617  0.93197657\n",
            " 0.94412836 0.9648663  0.96429801 0.95850788 0.9555982  0.96895479\n",
            " 0.96098241 0.95765381 0.93489923 0.93566887 0.93659113 0.93560717\n",
            " 0.92758932 0.92220512 0.93721463 0.93344764 0.93762056 0.9444596\n",
            " 0.95165261 0.96880866 0.96623671 0.96353162 0.96075833 0.96879891\n",
            " 0.9767713  0.98079159 0.98478265 0.97374471 0.95788438 0.94618722\n",
            " 0.93853958 0.92658587 0.95389656 0.96372322 0.96596718 0.96085251\n",
            " 0.96606784 0.96972767 0.97794361 0.97790789 0.96363229 0.96762011\n",
            " 0.95609831 0.95305549 0.9366366  0.93779917 0.92940462 0.94630413\n",
            " 0.95088297 0.94457001 0.96347641 0.97155596 0.96730186 0.97240678\n",
            " 0.97853139 1.         0.99760991 0.99678507 0.98554579 0.97405589\n",
            " 0.97120249 0.96607769 0.96033108 0.95489156]\n",
            "\n",
            "5 day output [[0.95010674]]\n",
            "\n",
            "6 day input [0.91464191 0.92252661 0.93865973 0.93906566 0.91182965 0.89462489\n",
            " 0.91342413 0.91126785 0.88858796 0.88498984 0.89212439 0.90398067\n",
            " 0.90866993 0.90523092 0.91886354 0.92839792 0.923293   0.92398145\n",
            " 0.93194409 0.91928895 0.91698978 0.91340789 0.91136852 0.91051445\n",
            " 0.92769973 0.93901045 0.94239425 0.94400496 0.94089395 0.93292481\n",
            " 0.95311394 0.94590794 0.9465899  0.9355617  0.93197657 0.94412836\n",
            " 0.9648663  0.96429801 0.95850788 0.9555982  0.96895479 0.96098241\n",
            " 0.95765381 0.93489923 0.93566887 0.93659113 0.93560717 0.92758932\n",
            " 0.92220512 0.93721463 0.93344764 0.93762056 0.9444596  0.95165261\n",
            " 0.96880866 0.96623671 0.96353162 0.96075833 0.96879891 0.9767713\n",
            " 0.98079159 0.98478265 0.97374471 0.95788438 0.94618722 0.93853958\n",
            " 0.92658587 0.95389656 0.96372322 0.96596718 0.96085251 0.96606784\n",
            " 0.96972767 0.97794361 0.97790789 0.96363229 0.96762011 0.95609831\n",
            " 0.95305549 0.9366366  0.93779917 0.92940462 0.94630413 0.95088297\n",
            " 0.94457001 0.96347641 0.97155596 0.96730186 0.97240678 0.97853139\n",
            " 1.         0.99760991 0.99678507 0.98554579 0.97405589 0.97120249\n",
            " 0.96607769 0.96033108 0.95489156 0.95010674]\n",
            "\n",
            "6 day output [[0.9460094]]\n",
            "[[0.9740558862686157], [0.9712024927139282], [0.9660776853561401], [0.9603310823440552], [0.954891562461853], [0.9501067399978638], [0.9460093975067139]]\n"
          ]
        }
      ]
    },
    {
      "cell_type": "code",
      "source": [
        "day_new=np.arange(1,101)\n",
        "day_pred=np.arange(101,108)"
      ],
      "metadata": {
        "id": "iVVfy5x7Ezc1"
      },
      "execution_count": null,
      "outputs": []
    },
    {
      "cell_type": "code",
      "source": [
        "ds3=ds1.tolist()\n",
        "ds3.extend(lst_output)"
      ],
      "metadata": {
        "id": "vBkEwZzGE5eQ"
      },
      "execution_count": null,
      "outputs": []
    },
    {
      "cell_type": "code",
      "source": [
        "plt.plot(day_new,scaler.inverse_transform(ds1[1241:]))\n",
        "plt.plot(day_pred,scaler.inverse_transform(lst_output))"
      ],
      "metadata": {
        "colab": {
          "base_uri": "https://localhost:8080/",
          "height": 447
        },
        "id": "pFhdOuioE_ig",
        "outputId": "a0974d53-5ff5-4b70-a6db-2bdb4db607b0"
      },
      "execution_count": null,
      "outputs": [
        {
          "output_type": "execute_result",
          "data": {
            "text/plain": [
              "[<matplotlib.lines.Line2D at 0x7ab06af54250>]"
            ]
          },
          "metadata": {},
          "execution_count": 331
        },
        {
          "output_type": "display_data",
          "data": {
            "text/plain": [
              "<Figure size 640x480 with 1 Axes>"
            ],
            "image/png": "[encoded data removed]"
          },
          "metadata": {}
        }
      ]
    },
    {
      "cell_type": "code",
      "source": [
        "plt.plot(ds3[1300:])"
      ],
      "metadata": {
        "colab": {
          "base_uri": "https://localhost:8080/",
          "height": 447
        },
        "id": "nc-EzP4zFEHZ",
        "outputId": "aeb1d6e1-cf6c-4a0e-a132-eaf78bf17b48"
      },
      "execution_count": null,
      "outputs": [
        {
          "output_type": "execute_result",
          "data": {
            "text/plain": [
              "[<matplotlib.lines.Line2D at 0x7ab06af38d60>]"
            ]
          },
          "metadata": {},
          "execution_count": 332
        },
        {
          "output_type": "display_data",
          "data": {
            "text/plain": [
              "<Figure size 640x480 with 1 Axes>"
            ],
            "image/png": "[encoded data removed]"
          },
          "metadata": {}
        }
      ]
    },
    {
      "cell_type": "code",
      "source": [
        "ds3=scaler.inverse_transform(ds3)\n",
        "plt.plot(ds3)"
      ],
      "metadata": {
        "colab": {
          "base_uri": "https://localhost:8080/",
          "height": 447
        },
        "id": "ddpVf_iyFLbO",
        "outputId": "f27c5e74-a439-4e07-c735-7afb1fea5e6b"
      },
      "execution_count": null,
      "outputs": [
        {
          "output_type": "execute_result",
          "data": {
            "text/plain": [
              "[<matplotlib.lines.Line2D at 0x7ab06ae4b700>]"
            ]
          },
          "metadata": {},
          "execution_count": 333
        },
        {
          "output_type": "display_data",
          "data": {
            "text/plain": [
              "<Figure size 640x480 with 1 Axes>"
            ],
            "image/png": "[encoded data removed]"
          },
          "metadata": {}
        }
      ]
    },
    {
      "cell_type": "code",
      "source": [
        "ds3[1341:]"
      ],
      "metadata": {
        "colab": {
          "base_uri": "https://localhost:8080/"
        },
        "id": "Ri2w4FhYFR3a",
        "outputId": "049f3e8c-1712-4939-9fc0-b34f2e9b5bd3"
      },
      "execution_count": null,
      "outputs": [
        {
          "output_type": "execute_result",
          "data": {
            "text/plain": [
              "array([[22508.54107529],\n",
              "       [22464.60766007],\n",
              "       [22385.70151366],\n",
              "       [22297.22164174],\n",
              "       [22213.46989807],\n",
              "       [22139.79846507],\n",
              "       [22076.71209247]])"
            ]
          },
          "metadata": {},
          "execution_count": 334
        }
      ]
    },
    {
      "cell_type": "code",
      "source": [],
      "metadata": {
        "id": "KgO3CQn8Ff9N"
      },
      "execution_count": null,
      "outputs": []
    }
  ],
  "metadata": {
    "accelerator": "GPU",
    "colab": {
      "gpuType": "T4",
      "provenance": [],
      "authorship_tag": "ABX9TyONjRXk+Gh52MNQOxOH2GF3",
      "include_colab_link": true
    },
    "kernelspec": {
      "display_name": "Python 3",
      "name": "python3"
    },
    "language_info": {
      "name": "python"
    }
  },
  "nbformat": 4,
  "nbformat_minor": 0
}